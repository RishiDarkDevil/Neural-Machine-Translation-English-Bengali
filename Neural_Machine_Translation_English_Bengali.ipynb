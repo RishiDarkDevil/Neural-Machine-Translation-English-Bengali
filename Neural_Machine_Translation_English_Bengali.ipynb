{
  "nbformat": 4,
  "nbformat_minor": 0,
  "metadata": {
    "colab": {
      "name": "Neural-Machine-Translation-English-Bengali.ipynb",
      "provenance": [],
      "authorship_tag": "ABX9TyNHQ3Jb3lT1ScbJ2TIVGRwJ"
    },
    "kernelspec": {
      "name": "python3",
      "display_name": "Python 3"
    },
    "language_info": {
      "name": "python"
    }
  },
  "cells": [
    {
      "cell_type": "markdown",
      "source": [
        "# Neural Machine Translation (English to Bengali)"
      ],
      "metadata": {
        "id": "hIwsNFGkbyRW"
      }
    },
    {
      "cell_type": "markdown",
      "source": [
        "## Introduction\n",
        "Language is the heart of communication. There are $\\sim7,100$ languages all over the world and hence communication between people belonging to two different cultures and having different languages has always been a challenge. Access to good quality translation as well as requirement has never been so high, which we observe currently. Large number of communications taking place online among people who speak different languages is eased by language technologies like automated machine translation, speech recognition and conversion to native languages, etc.\n",
        "\n",
        "So, as a part of The 11th Advanced Summer School on NLP (IASNLP-2022) is scheduled to be held at IIIT Hyderabad, India, whose theme revolved around Speech to Speech Machine Translation (SSMT) in Indian Languages, I have worked in developing a Neural Machine Translation Model for English to North-Eastern Language (in my case Bengali). "
      ],
      "metadata": {
        "id": "PJwewgY4b41i"
      }
    },
    {
      "cell_type": "markdown",
      "source": [
        "## Problem to Solve\n",
        "There is a lack of literature and good models for English to North-Eastern language machine translation. Hence, it is necessary to explore the possibility of machine translation for these languages from English. Exploration of neural architechtures is what is needed and it is important to look at the performance of these base-line models in terms of machine translation so that further research and work can be put in to train better models or improve on these models."
      ],
      "metadata": {
        "id": "Theg38A6fe-7"
      }
    },
    {
      "cell_type": "markdown",
      "source": [
        "## Data\n",
        "### Train Data\n",
        "The data I will be using for training is the parallel corpus provided by Samanantar dataset. It is a huge corpus of source-wise split parallel corpus of one Indian language to other or English and vice-verse. For our case we were only concerned with English to Bengali part of this dataset.\n",
        "\n",
        "I took all the $47$ sources for English and Bengali parallel corpus and combined it into a large parallel corpus with $92,51,703$ parallel sentences. I then shuffled the sentences to obtain a homogeneous mixture of parallel sentences from all sources."
      ],
      "metadata": {
        "id": "ZE5kpm7gg0F7"
      }
    },
    {
      "cell_type": "markdown",
      "source": [
        "| src | tgt |\n",
        "| --- | --- |\n",
        "Okay, I'll be right there.| \tওকে, এখনই আসছি\n",
        "Give one's lessons.| \tপড়া দেওয়া\n",
        "Much to the Witnesses' surprise, even the pros...|\tসাক্ষীরা অত্যন্ত বিস্মিত হন, এমনকি সরকারি উকিল...\n",
        "I am at your service.| \tআমি তোমাকে সাহায্য করার জন্যই\n",
        "Via Facebook Messenger, Global Voices talked w...| \tগ্লোবাল ভয়েসস বাংলা'র পক্ষ থেকে আমরা যোগাযোগ ক...\n",
        "... \t| \t...\n",
        "A panel of auditors for auditing listed compan... |\tনিরীক্ষা কার্যক্রমে শৃঙ্খলা আনয়নে তালিকাভুক্ত...\n",
        "On this consideration, and on certain conditio...| \tসে কারণে কতিপয় শর্ত সাপেক্ষে এসব যন্ত্রাংশের ...\n",
        "Under these rules, fixed price method for IPOs... |\tএতে অভিহিত মূল্যে আইপিও’র জন্য ফিক্সড প্রাইস প...\n",
        "Steps are being taken to introduce rural ratio... |\tটিআর ও ভিজিএফ এর পরিবর্তে পল্লী রেশনিং কর্মসূচ...\n",
        "I propose to rationalize rates and to introduc... |\tউৎস কর: উৎস করে কয়েকটি ক্ষেত্রে করহার যৌক্তিক...\n",
        "\n",
        "\n"
      ],
      "metadata": {
        "id": "v4pX_l1rhWQO"
      }
    },
    {
      "cell_type": "markdown",
      "source": [
        "Now, due to computational resource and time constraint training on such a large dataset is impossible. Hence, I opt to use $\\sim 1.7\\%$ of this massive training data.\\\n",
        "I also generated a bigger dataset, which is $\\sim8\\%$ of the entire training data, which is used in training only a few models."
      ],
      "metadata": {
        "id": "XBWy0jfwlNEC"
      }
    },
    {
      "cell_type": "markdown",
      "source": [
        "### Test Data\n",
        "Now, the test data on which I want to evaluate the model performance is a set of $\\sim250$ parallel sentences taken from Indic WAT 2021. "
      ],
      "metadata": {
        "id": "LduBoXkokcEJ"
      }
    },
    {
      "cell_type": "code",
      "source": [
        ""
      ],
      "metadata": {
        "id": "3BgMvLpGeslv"
      },
      "execution_count": null,
      "outputs": []
    }
  ]
}