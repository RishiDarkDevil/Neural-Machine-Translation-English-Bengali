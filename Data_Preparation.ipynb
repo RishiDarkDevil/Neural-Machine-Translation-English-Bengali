{
  "cells": [
    {
      "cell_type": "markdown",
      "source": [
        "#### Mounting Google Drive"
      ],
      "metadata": {
        "id": "Xgyj7gVCy_tn"
      },
      "id": "Xgyj7gVCy_tn"
    },
    {
      "cell_type": "code",
      "source": [
        "from google.colab import drive\n",
        "drive.mount('/content/drive')"
      ],
      "metadata": {
        "id": "T_V0_4DCzCf0"
      },
      "id": "T_V0_4DCzCf0",
      "execution_count": null,
      "outputs": []
    },
    {
      "cell_type": "code",
      "source": [
        "cd \"/content/drive/MyDrive/IASNLP\""
      ],
      "metadata": {
        "id": "zkUR75UHzHaV"
      },
      "id": "zkUR75UHzHaV",
      "execution_count": null,
      "outputs": []
    },
    {
      "cell_type": "markdown",
      "id": "16ec48fe",
      "metadata": {
        "id": "16ec48fe"
      },
      "source": [
        "### Importing Necessary Libraries"
      ]
    },
    {
      "cell_type": "code",
      "source": [
        "!pip install sentencepiece"
      ],
      "metadata": {
        "id": "S9Hc3W_mtYx9"
      },
      "id": "S9Hc3W_mtYx9",
      "execution_count": null,
      "outputs": []
    },
    {
      "cell_type": "code",
      "execution_count": 51,
      "id": "dfa63963",
      "metadata": {
        "id": "dfa63963"
      },
      "outputs": [],
      "source": [
        "import numpy as np\n",
        "import pandas as pd\n",
        "\n",
        "import sentencepiece as spm\n",
        "from tensorflow.keras.preprocessing.sequence import pad_sequences\n",
        "from sklearn.model_selection import train_test_split\n",
        "\n",
        "\n",
        "import matplotlib.pyplot as plt \n",
        "\n",
        "from functools import reduce\n",
        "import os"
      ]
    },
    {
      "cell_type": "markdown",
      "id": "37d50333",
      "metadata": {
        "id": "37d50333"
      },
      "source": [
        "### Loading Data"
      ]
    },
    {
      "cell_type": "markdown",
      "id": "81a90423",
      "metadata": {
        "id": "81a90423"
      },
      "source": [
        "We have downloaded the entire Samanantar Parallel Corpus. The data is split by source from where it was collected. We are concerned with the English-Bengali Parallel Corpus for the purpose of our training. Hence, we have removed the English to other Indian Language information. We might include them later in our study or training to see if that improves performance.\n",
        "\n",
        "Due to computational resource constraint, we will take some fraction of data from each source and will pre-process it."
      ]
    },
    {
      "cell_type": "markdown",
      "id": "79730893",
      "metadata": {
        "id": "79730893"
      },
      "source": [
        "Below, we can see the new created source of parallel corpora from various Indian Channels and Programmes for English to Bengali Data. We also have existing parallel corpora from previous workshops and events included."
      ]
    },
    {
      "cell_type": "code",
      "execution_count": null,
      "id": "36987727",
      "metadata": {
        "colab": {
          "base_uri": "https://localhost:8080/"
        },
        "id": "36987727",
        "outputId": "c1ec1acf-bacc-48a8-ea1d-0d6e260ffe40"
      },
      "outputs": [
        {
          "output_type": "stream",
          "name": "stdout",
          "text": [
            "New Data created by Samanantar:\n",
            "anuvaad_dw\t\tasianetnews\t  ie_news\tocr\n",
            "anuvaad-general_corpus\tcoursera\t  ie_sports\toneindia\n",
            "anuvaad_mykhel\t\tdwnews\t\t  ie_tech\tpmi\n",
            "anuvaad_ocr\t\tie_business\t  indiccorp\tsentinel\n",
            "anuvaad_oneindia\tie_education\t  khan_academy\twikipedia\n",
            "anuvaad_pib\t\tie_entertainment  Kurzgesagt\n",
            "anuvaad_pib_archives\tie_general\t  mykhel\n",
            "anuvaad_prothomalo\tie_lifestyle\t  nptel\n",
            "\n",
            "Existing Data Sources before Samanantar:\n",
            "alt\t     cvit-pib\t   GNOME  Mozilla-I10n\t Tanzil   tico19-terminologies\n",
            "banglanmt    ELRC_2922\t   JW300  OpenSubtitles  Tatoeba  Ubuntu\n",
            "bible-uedin  GlobalVoices  KDE4   sipc\t\t TED2020  wikimatrix_opus\n"
          ]
        }
      ],
      "source": [
        "print(\"New Data created by Samanantar:\")\n",
        "!ls ./Data/source_wise_splits/created\n",
        "print(\"\\nExisting Data Sources before Samanantar:\")\n",
        "!ls ./Data/source_wise_splits/existing"
      ]
    },
    {
      "cell_type": "code",
      "execution_count": null,
      "id": "cd54afda",
      "metadata": {
        "id": "cd54afda"
      },
      "outputs": [],
      "source": [
        "file_names = os.listdir(\"./Data/source_wise_splits/existing\")\n",
        "data_by_source = list()\n",
        "for file_name in file_names:\n",
        "    data_by_source.append(pd.read_csv(\"./Data/source_wise_splits/existing/\"+file_name+\"/en-bn/bn_sents.tsv\", sep=\"\\t\"))"
      ]
    },
    {
      "cell_type": "code",
      "execution_count": null,
      "id": "6c8a1887",
      "metadata": {
        "id": "6c8a1887"
      },
      "outputs": [],
      "source": [
        "file_names = os.listdir(\"./Data/source_wise_splits/created\")\n",
        "for file_name in file_names:\n",
        "    data_by_source.append(pd.read_csv(\"./Data/source_wise_splits/created/\"+file_name+\"/en-bn/bn_sents.tsv\", sep=\"\\t\"))"
      ]
    },
    {
      "cell_type": "code",
      "source": [
        "data_by_source = [dat.drop('idx', 1) for dat in data_by_source]"
      ],
      "metadata": {
        "colab": {
          "base_uri": "https://localhost:8080/"
        },
        "id": "F6Fo-ZsW5wit",
        "outputId": "1653c7e9-08b3-4d7f-93e8-d3d6460f2e23"
      },
      "id": "F6Fo-ZsW5wit",
      "execution_count": null,
      "outputs": [
        {
          "output_type": "stream",
          "name": "stderr",
          "text": [
            "/usr/local/lib/python3.7/dist-packages/ipykernel_launcher.py:1: FutureWarning: In a future version of pandas all arguments of DataFrame.drop except for the argument 'labels' will be keyword-only\n",
            "  \"\"\"Entry point for launching an IPython kernel.\n"
          ]
        }
      ]
    },
    {
      "cell_type": "markdown",
      "source": [
        "Let's have a look at one of the loaded files. We can see that there are 3 columns `src` and `tgt` standing for source and target. We now observe that each source sentence has it's bengali translation in the dataset. "
      ],
      "metadata": {
        "id": "kxxRJvX-2cWF"
      },
      "id": "kxxRJvX-2cWF"
    },
    {
      "cell_type": "code",
      "source": [
        "data_by_source[0].head()"
      ],
      "metadata": {
        "colab": {
          "base_uri": "https://localhost:8080/",
          "height": 206
        },
        "id": "9RbhjcIw2SOy",
        "outputId": "f366f04e-f3ea-49f2-8cb6-9d203185be75"
      },
      "id": "9RbhjcIw2SOy",
      "execution_count": null,
      "outputs": [
        {
          "output_type": "execute_result",
          "data": {
            "text/plain": [
              "                                                 src  \\\n",
              "0                         Okay, I'll be right there.   \n",
              "1                                Give one's lessons.   \n",
              "2  Much to the Witnesses' surprise, even the pros...   \n",
              "3                              I am at your service.   \n",
              "4  Via Facebook Messenger, Global Voices talked w...   \n",
              "\n",
              "                                                 tgt  \n",
              "0                                     ওকে, এখনই আসছি  \n",
              "1                                          পড়া দেওয়া  \n",
              "2  সাক্ষীরা অত্যন্ত বিস্মিত হন, এমনকি সরকারি উকিল...  \n",
              "3                      আমি তোমাকে সাহায্য করার জন্যই  \n",
              "4  গ্লোবাল ভয়েসস বাংলা'র পক্ষ থেকে আমরা যোগাযোগ ক...  "
            ],
            "text/html": [
              "\n",
              "  <div id=\"df-d638e481-ad11-4b0e-8646-0eda63b1fef7\">\n",
              "    <div class=\"colab-df-container\">\n",
              "      <div>\n",
              "<style scoped>\n",
              "    .dataframe tbody tr th:only-of-type {\n",
              "        vertical-align: middle;\n",
              "    }\n",
              "\n",
              "    .dataframe tbody tr th {\n",
              "        vertical-align: top;\n",
              "    }\n",
              "\n",
              "    .dataframe thead th {\n",
              "        text-align: right;\n",
              "    }\n",
              "</style>\n",
              "<table border=\"1\" class=\"dataframe\">\n",
              "  <thead>\n",
              "    <tr style=\"text-align: right;\">\n",
              "      <th></th>\n",
              "      <th>src</th>\n",
              "      <th>tgt</th>\n",
              "    </tr>\n",
              "  </thead>\n",
              "  <tbody>\n",
              "    <tr>\n",
              "      <th>0</th>\n",
              "      <td>Okay, I'll be right there.</td>\n",
              "      <td>ওকে, এখনই আসছি</td>\n",
              "    </tr>\n",
              "    <tr>\n",
              "      <th>1</th>\n",
              "      <td>Give one's lessons.</td>\n",
              "      <td>পড়া দেওয়া</td>\n",
              "    </tr>\n",
              "    <tr>\n",
              "      <th>2</th>\n",
              "      <td>Much to the Witnesses' surprise, even the pros...</td>\n",
              "      <td>সাক্ষীরা অত্যন্ত বিস্মিত হন, এমনকি সরকারি উকিল...</td>\n",
              "    </tr>\n",
              "    <tr>\n",
              "      <th>3</th>\n",
              "      <td>I am at your service.</td>\n",
              "      <td>আমি তোমাকে সাহায্য করার জন্যই</td>\n",
              "    </tr>\n",
              "    <tr>\n",
              "      <th>4</th>\n",
              "      <td>Via Facebook Messenger, Global Voices talked w...</td>\n",
              "      <td>গ্লোবাল ভয়েসস বাংলা'র পক্ষ থেকে আমরা যোগাযোগ ক...</td>\n",
              "    </tr>\n",
              "  </tbody>\n",
              "</table>\n",
              "</div>\n",
              "      <button class=\"colab-df-convert\" onclick=\"convertToInteractive('df-d638e481-ad11-4b0e-8646-0eda63b1fef7')\"\n",
              "              title=\"Convert this dataframe to an interactive table.\"\n",
              "              style=\"display:none;\">\n",
              "        \n",
              "  <svg xmlns=\"http://www.w3.org/2000/svg\" height=\"24px\"viewBox=\"0 0 24 24\"\n",
              "       width=\"24px\">\n",
              "    <path d=\"M0 0h24v24H0V0z\" fill=\"none\"/>\n",
              "    <path d=\"M18.56 5.44l.94 2.06.94-2.06 2.06-.94-2.06-.94-.94-2.06-.94 2.06-2.06.94zm-11 1L8.5 8.5l.94-2.06 2.06-.94-2.06-.94L8.5 2.5l-.94 2.06-2.06.94zm10 10l.94 2.06.94-2.06 2.06-.94-2.06-.94-.94-2.06-.94 2.06-2.06.94z\"/><path d=\"M17.41 7.96l-1.37-1.37c-.4-.4-.92-.59-1.43-.59-.52 0-1.04.2-1.43.59L10.3 9.45l-7.72 7.72c-.78.78-.78 2.05 0 2.83L4 21.41c.39.39.9.59 1.41.59.51 0 1.02-.2 1.41-.59l7.78-7.78 2.81-2.81c.8-.78.8-2.07 0-2.86zM5.41 20L4 18.59l7.72-7.72 1.47 1.35L5.41 20z\"/>\n",
              "  </svg>\n",
              "      </button>\n",
              "      \n",
              "  <style>\n",
              "    .colab-df-container {\n",
              "      display:flex;\n",
              "      flex-wrap:wrap;\n",
              "      gap: 12px;\n",
              "    }\n",
              "\n",
              "    .colab-df-convert {\n",
              "      background-color: #E8F0FE;\n",
              "      border: none;\n",
              "      border-radius: 50%;\n",
              "      cursor: pointer;\n",
              "      display: none;\n",
              "      fill: #1967D2;\n",
              "      height: 32px;\n",
              "      padding: 0 0 0 0;\n",
              "      width: 32px;\n",
              "    }\n",
              "\n",
              "    .colab-df-convert:hover {\n",
              "      background-color: #E2EBFA;\n",
              "      box-shadow: 0px 1px 2px rgba(60, 64, 67, 0.3), 0px 1px 3px 1px rgba(60, 64, 67, 0.15);\n",
              "      fill: #174EA6;\n",
              "    }\n",
              "\n",
              "    [theme=dark] .colab-df-convert {\n",
              "      background-color: #3B4455;\n",
              "      fill: #D2E3FC;\n",
              "    }\n",
              "\n",
              "    [theme=dark] .colab-df-convert:hover {\n",
              "      background-color: #434B5C;\n",
              "      box-shadow: 0px 1px 3px 1px rgba(0, 0, 0, 0.15);\n",
              "      filter: drop-shadow(0px 1px 2px rgba(0, 0, 0, 0.3));\n",
              "      fill: #FFFFFF;\n",
              "    }\n",
              "  </style>\n",
              "\n",
              "      <script>\n",
              "        const buttonEl =\n",
              "          document.querySelector('#df-d638e481-ad11-4b0e-8646-0eda63b1fef7 button.colab-df-convert');\n",
              "        buttonEl.style.display =\n",
              "          google.colab.kernel.accessAllowed ? 'block' : 'none';\n",
              "\n",
              "        async function convertToInteractive(key) {\n",
              "          const element = document.querySelector('#df-d638e481-ad11-4b0e-8646-0eda63b1fef7');\n",
              "          const dataTable =\n",
              "            await google.colab.kernel.invokeFunction('convertToInteractive',\n",
              "                                                     [key], {});\n",
              "          if (!dataTable) return;\n",
              "\n",
              "          const docLinkHtml = 'Like what you see? Visit the ' +\n",
              "            '<a target=\"_blank\" href=https://colab.research.google.com/notebooks/data_table.ipynb>data table notebook</a>'\n",
              "            + ' to learn more about interactive tables.';\n",
              "          element.innerHTML = '';\n",
              "          dataTable['output_type'] = 'display_data';\n",
              "          await google.colab.output.renderOutput(dataTable, element);\n",
              "          const docLink = document.createElement('div');\n",
              "          docLink.innerHTML = docLinkHtml;\n",
              "          element.appendChild(docLink);\n",
              "        }\n",
              "      </script>\n",
              "    </div>\n",
              "  </div>\n",
              "  "
            ]
          },
          "metadata": {},
          "execution_count": 9
        }
      ]
    },
    {
      "cell_type": "markdown",
      "source": [
        "Ideally, we will want our training data to be spread across all the sources. Hence, we will merge all the sources together."
      ],
      "metadata": {
        "id": "ltaa01Ec3Dxw"
      },
      "id": "ltaa01Ec3Dxw"
    },
    {
      "cell_type": "code",
      "source": [
        "data = pd.concat(data_by_source, ignore_index=True)"
      ],
      "metadata": {
        "id": "n73iW9px2lZ4"
      },
      "id": "n73iW9px2lZ4",
      "execution_count": null,
      "outputs": []
    },
    {
      "cell_type": "code",
      "source": [
        "data.to_csv('full_data.csv')"
      ],
      "metadata": {
        "id": "EIffMnpRkXg6"
      },
      "id": "EIffMnpRkXg6",
      "execution_count": null,
      "outputs": []
    },
    {
      "cell_type": "markdown",
      "source": [
        "We have in total 9251703 parallel sentences for English to Bengali."
      ],
      "metadata": {
        "id": "hQRA8vXF7En_"
      },
      "id": "hQRA8vXF7En_"
    },
    {
      "cell_type": "code",
      "source": [
        "# Run if you have ran the above codes once before and have generated the full_data.csv file\n",
        "data = pd.read_csv(\"full_data.csv\")\n",
        "data = data[['src', 'tgt']]"
      ],
      "metadata": {
        "id": "RSFO_QDkkZsf"
      },
      "id": "RSFO_QDkkZsf",
      "execution_count": 5,
      "outputs": []
    },
    {
      "cell_type": "code",
      "source": [
        "data"
      ],
      "metadata": {
        "colab": {
          "base_uri": "https://localhost:8080/",
          "height": 424
        },
        "id": "yvczhxXM5cOo",
        "outputId": "48e47926-f0ee-4f08-b5d3-ddd8f4284899"
      },
      "id": "yvczhxXM5cOo",
      "execution_count": 6,
      "outputs": [
        {
          "output_type": "execute_result",
          "data": {
            "text/plain": [
              "                                                       src  \\\n",
              "0                               Okay, I'll be right there.   \n",
              "1                                      Give one's lessons.   \n",
              "2        Much to the Witnesses' surprise, even the pros...   \n",
              "3                                    I am at your service.   \n",
              "4        Via Facebook Messenger, Global Voices talked w...   \n",
              "...                                                    ...   \n",
              "9251698  A panel of auditors for auditing listed compan...   \n",
              "9251699  On this consideration, and on certain conditio...   \n",
              "9251700  Under these rules, fixed price method for IPOs...   \n",
              "9251701  Steps are being taken to introduce rural ratio...   \n",
              "9251702  I propose to rationalize rates and to introduc...   \n",
              "\n",
              "                                                       tgt  \n",
              "0                                           ওকে, এখনই আসছি  \n",
              "1                                                পড়া দেওয়া  \n",
              "2        সাক্ষীরা অত্যন্ত বিস্মিত হন, এমনকি সরকারি উকিল...  \n",
              "3                            আমি তোমাকে সাহায্য করার জন্যই  \n",
              "4        গ্লোবাল ভয়েসস বাংলা'র পক্ষ থেকে আমরা যোগাযোগ ক...  \n",
              "...                                                    ...  \n",
              "9251698  নিরীক্ষা কার্যক্রমে শৃঙ্খলা আনয়নে তালিকাভুক্ত...  \n",
              "9251699  সে কারণে কতিপয় শর্ত সাপেক্ষে এসব যন্ত্রাংশের ...  \n",
              "9251700  এতে অভিহিত মূল্যে আইপিও’র জন্য ফিক্সড প্রাইস প...  \n",
              "9251701  টিআর ও ভিজিএফ এর পরিবর্তে পল্লী রেশনিং কর্মসূচ...  \n",
              "9251702  উৎস কর: উৎস করে কয়েকটি ক্ষেত্রে করহার যৌক্তিক...  \n",
              "\n",
              "[9251703 rows x 2 columns]"
            ],
            "text/html": [
              "\n",
              "  <div id=\"df-6b42c17c-0f97-4d7a-8321-d2c5dec3470c\">\n",
              "    <div class=\"colab-df-container\">\n",
              "      <div>\n",
              "<style scoped>\n",
              "    .dataframe tbody tr th:only-of-type {\n",
              "        vertical-align: middle;\n",
              "    }\n",
              "\n",
              "    .dataframe tbody tr th {\n",
              "        vertical-align: top;\n",
              "    }\n",
              "\n",
              "    .dataframe thead th {\n",
              "        text-align: right;\n",
              "    }\n",
              "</style>\n",
              "<table border=\"1\" class=\"dataframe\">\n",
              "  <thead>\n",
              "    <tr style=\"text-align: right;\">\n",
              "      <th></th>\n",
              "      <th>src</th>\n",
              "      <th>tgt</th>\n",
              "    </tr>\n",
              "  </thead>\n",
              "  <tbody>\n",
              "    <tr>\n",
              "      <th>0</th>\n",
              "      <td>Okay, I'll be right there.</td>\n",
              "      <td>ওকে, এখনই আসছি</td>\n",
              "    </tr>\n",
              "    <tr>\n",
              "      <th>1</th>\n",
              "      <td>Give one's lessons.</td>\n",
              "      <td>পড়া দেওয়া</td>\n",
              "    </tr>\n",
              "    <tr>\n",
              "      <th>2</th>\n",
              "      <td>Much to the Witnesses' surprise, even the pros...</td>\n",
              "      <td>সাক্ষীরা অত্যন্ত বিস্মিত হন, এমনকি সরকারি উকিল...</td>\n",
              "    </tr>\n",
              "    <tr>\n",
              "      <th>3</th>\n",
              "      <td>I am at your service.</td>\n",
              "      <td>আমি তোমাকে সাহায্য করার জন্যই</td>\n",
              "    </tr>\n",
              "    <tr>\n",
              "      <th>4</th>\n",
              "      <td>Via Facebook Messenger, Global Voices talked w...</td>\n",
              "      <td>গ্লোবাল ভয়েসস বাংলা'র পক্ষ থেকে আমরা যোগাযোগ ক...</td>\n",
              "    </tr>\n",
              "    <tr>\n",
              "      <th>...</th>\n",
              "      <td>...</td>\n",
              "      <td>...</td>\n",
              "    </tr>\n",
              "    <tr>\n",
              "      <th>9251698</th>\n",
              "      <td>A panel of auditors for auditing listed compan...</td>\n",
              "      <td>নিরীক্ষা কার্যক্রমে শৃঙ্খলা আনয়নে তালিকাভুক্ত...</td>\n",
              "    </tr>\n",
              "    <tr>\n",
              "      <th>9251699</th>\n",
              "      <td>On this consideration, and on certain conditio...</td>\n",
              "      <td>সে কারণে কতিপয় শর্ত সাপেক্ষে এসব যন্ত্রাংশের ...</td>\n",
              "    </tr>\n",
              "    <tr>\n",
              "      <th>9251700</th>\n",
              "      <td>Under these rules, fixed price method for IPOs...</td>\n",
              "      <td>এতে অভিহিত মূল্যে আইপিও’র জন্য ফিক্সড প্রাইস প...</td>\n",
              "    </tr>\n",
              "    <tr>\n",
              "      <th>9251701</th>\n",
              "      <td>Steps are being taken to introduce rural ratio...</td>\n",
              "      <td>টিআর ও ভিজিএফ এর পরিবর্তে পল্লী রেশনিং কর্মসূচ...</td>\n",
              "    </tr>\n",
              "    <tr>\n",
              "      <th>9251702</th>\n",
              "      <td>I propose to rationalize rates and to introduc...</td>\n",
              "      <td>উৎস কর: উৎস করে কয়েকটি ক্ষেত্রে করহার যৌক্তিক...</td>\n",
              "    </tr>\n",
              "  </tbody>\n",
              "</table>\n",
              "<p>9251703 rows × 2 columns</p>\n",
              "</div>\n",
              "      <button class=\"colab-df-convert\" onclick=\"convertToInteractive('df-6b42c17c-0f97-4d7a-8321-d2c5dec3470c')\"\n",
              "              title=\"Convert this dataframe to an interactive table.\"\n",
              "              style=\"display:none;\">\n",
              "        \n",
              "  <svg xmlns=\"http://www.w3.org/2000/svg\" height=\"24px\"viewBox=\"0 0 24 24\"\n",
              "       width=\"24px\">\n",
              "    <path d=\"M0 0h24v24H0V0z\" fill=\"none\"/>\n",
              "    <path d=\"M18.56 5.44l.94 2.06.94-2.06 2.06-.94-2.06-.94-.94-2.06-.94 2.06-2.06.94zm-11 1L8.5 8.5l.94-2.06 2.06-.94-2.06-.94L8.5 2.5l-.94 2.06-2.06.94zm10 10l.94 2.06.94-2.06 2.06-.94-2.06-.94-.94-2.06-.94 2.06-2.06.94z\"/><path d=\"M17.41 7.96l-1.37-1.37c-.4-.4-.92-.59-1.43-.59-.52 0-1.04.2-1.43.59L10.3 9.45l-7.72 7.72c-.78.78-.78 2.05 0 2.83L4 21.41c.39.39.9.59 1.41.59.51 0 1.02-.2 1.41-.59l7.78-7.78 2.81-2.81c.8-.78.8-2.07 0-2.86zM5.41 20L4 18.59l7.72-7.72 1.47 1.35L5.41 20z\"/>\n",
              "  </svg>\n",
              "      </button>\n",
              "      \n",
              "  <style>\n",
              "    .colab-df-container {\n",
              "      display:flex;\n",
              "      flex-wrap:wrap;\n",
              "      gap: 12px;\n",
              "    }\n",
              "\n",
              "    .colab-df-convert {\n",
              "      background-color: #E8F0FE;\n",
              "      border: none;\n",
              "      border-radius: 50%;\n",
              "      cursor: pointer;\n",
              "      display: none;\n",
              "      fill: #1967D2;\n",
              "      height: 32px;\n",
              "      padding: 0 0 0 0;\n",
              "      width: 32px;\n",
              "    }\n",
              "\n",
              "    .colab-df-convert:hover {\n",
              "      background-color: #E2EBFA;\n",
              "      box-shadow: 0px 1px 2px rgba(60, 64, 67, 0.3), 0px 1px 3px 1px rgba(60, 64, 67, 0.15);\n",
              "      fill: #174EA6;\n",
              "    }\n",
              "\n",
              "    [theme=dark] .colab-df-convert {\n",
              "      background-color: #3B4455;\n",
              "      fill: #D2E3FC;\n",
              "    }\n",
              "\n",
              "    [theme=dark] .colab-df-convert:hover {\n",
              "      background-color: #434B5C;\n",
              "      box-shadow: 0px 1px 3px 1px rgba(0, 0, 0, 0.15);\n",
              "      filter: drop-shadow(0px 1px 2px rgba(0, 0, 0, 0.3));\n",
              "      fill: #FFFFFF;\n",
              "    }\n",
              "  </style>\n",
              "\n",
              "      <script>\n",
              "        const buttonEl =\n",
              "          document.querySelector('#df-6b42c17c-0f97-4d7a-8321-d2c5dec3470c button.colab-df-convert');\n",
              "        buttonEl.style.display =\n",
              "          google.colab.kernel.accessAllowed ? 'block' : 'none';\n",
              "\n",
              "        async function convertToInteractive(key) {\n",
              "          const element = document.querySelector('#df-6b42c17c-0f97-4d7a-8321-d2c5dec3470c');\n",
              "          const dataTable =\n",
              "            await google.colab.kernel.invokeFunction('convertToInteractive',\n",
              "                                                     [key], {});\n",
              "          if (!dataTable) return;\n",
              "\n",
              "          const docLinkHtml = 'Like what you see? Visit the ' +\n",
              "            '<a target=\"_blank\" href=https://colab.research.google.com/notebooks/data_table.ipynb>data table notebook</a>'\n",
              "            + ' to learn more about interactive tables.';\n",
              "          element.innerHTML = '';\n",
              "          dataTable['output_type'] = 'display_data';\n",
              "          await google.colab.output.renderOutput(dataTable, element);\n",
              "          const docLink = document.createElement('div');\n",
              "          docLink.innerHTML = docLinkHtml;\n",
              "          element.appendChild(docLink);\n",
              "        }\n",
              "      </script>\n",
              "    </div>\n",
              "  </div>\n",
              "  "
            ]
          },
          "metadata": {},
          "execution_count": 6
        }
      ]
    },
    {
      "cell_type": "markdown",
      "source": [
        "### Data Preparation"
      ],
      "metadata": {
        "id": "4ut1-TrRWjhm"
      },
      "id": "4ut1-TrRWjhm"
    },
    {
      "cell_type": "markdown",
      "source": [
        "We now shuffle the data to form our training data(`train_data`)(which is 1.2% of the entire dataset). We will take some part of this training data(0.05%)(on which the model won't be trained) to form the training-developement(`train_dev_data`) set. The developement set and the test set will be presented later.\n",
        "\n",
        "Reason: The entire dataset is massive and would take large computing resource to train a model. Hence, we took a subset of the dataset for ease in training."
      ],
      "metadata": {
        "id": "UcvacKqGAhnu"
      },
      "id": "UcvacKqGAhnu"
    },
    {
      "cell_type": "code",
      "source": [
        "train_data, train_dev_data  = train_test_split(data, train_size=0.012, test_size=0.0005, random_state=43)"
      ],
      "metadata": {
        "id": "6uG46fE77rBX"
      },
      "id": "6uG46fE77rBX",
      "execution_count": 12,
      "outputs": []
    },
    {
      "cell_type": "code",
      "source": [
        "# train_data.to_csv(\"train_data.csv\")\n",
        "# train_dev_data.to_csv(\"train_dev.csv\")\n",
        "# Uncomment and run the above lines if running for first time and there is no train_data.csv and train_dev.csv file in the working directory\n",
        "train_data = pd.read_csv(\"train_data.csv\")[['src', 'tgt']]\n",
        "train_dev_data = pd.read_csv(\"train_dev.csv\")[['src', 'tgt']]"
      ],
      "metadata": {
        "id": "5UxG-tfyno8K"
      },
      "id": "5UxG-tfyno8K",
      "execution_count": 5,
      "outputs": []
    },
    {
      "cell_type": "code",
      "source": [
        "train_data"
      ],
      "metadata": {
        "colab": {
          "base_uri": "https://localhost:8080/",
          "height": 424
        },
        "id": "8UVLrqlmA78n",
        "outputId": "0387e0ab-b49b-4303-dd42-8023e04b8f6a"
      },
      "id": "8UVLrqlmA78n",
      "execution_count": 6,
      "outputs": [
        {
          "output_type": "execute_result",
          "data": {
            "text/plain": [
              "                                                      src  \\\n",
              "0                          But the shoot was a tough one.   \n",
              "1                              Road construction started.   \n",
              "2                                 Why did he pay so much?   \n",
              "3           \"AT ITS worst, this has been Satan's century.   \n",
              "4                                 That's our only demand.   \n",
              "...                                                   ...   \n",
              "111015                        Turmeric powder 1 tea spoon   \n",
              "111016                                   Photo: Facebook.   \n",
              "111017               Strengthening ties with Saudi Arabia   \n",
              "111018               This is some brief footage Eva took:   \n",
              "111019  And how many towns did We destroy which had st...   \n",
              "\n",
              "                                                      tgt  \n",
              "0                           তবে শ্যুটটা খুব মুশকিলের ছিল।  \n",
              "1                              রাস্তা নির্মাণ শুরু হয়েছে।  \n",
              "2                                 কেন তিনি এত টাকা দিতেন?  \n",
              "3       \"এই শতাব্দীর প্রচণ্ড ভয়াবহতা এটাকে শয়তানের এক ...  \n",
              "4                              সেটাই আমাদের একমাত্র দাবি।  \n",
              "...                                                   ...  \n",
              "111015                          দারুচিনি-গুঁড়া ১ চা-চামচ।  \n",
              "111016                             ছবি: ফেসবুক থেকে নেয়া।  \n",
              "111017          সৌদি আরবের সঙ্গে সম্পর্ক শক্ত করার উদ্যোগ  \n",
              "111018                    এভার তোলা কিছু বিস্তারিত দৃশ্য:  \n",
              "111019  আর জনপদদের কতটাকে যে আমরা ধ্বংস করেছি যে গর্ব ...  \n",
              "\n",
              "[111020 rows x 2 columns]"
            ],
            "text/html": [
              "\n",
              "  <div id=\"df-2ed6d99a-58c2-4c64-ab7a-b18980a28a06\">\n",
              "    <div class=\"colab-df-container\">\n",
              "      <div>\n",
              "<style scoped>\n",
              "    .dataframe tbody tr th:only-of-type {\n",
              "        vertical-align: middle;\n",
              "    }\n",
              "\n",
              "    .dataframe tbody tr th {\n",
              "        vertical-align: top;\n",
              "    }\n",
              "\n",
              "    .dataframe thead th {\n",
              "        text-align: right;\n",
              "    }\n",
              "</style>\n",
              "<table border=\"1\" class=\"dataframe\">\n",
              "  <thead>\n",
              "    <tr style=\"text-align: right;\">\n",
              "      <th></th>\n",
              "      <th>src</th>\n",
              "      <th>tgt</th>\n",
              "    </tr>\n",
              "  </thead>\n",
              "  <tbody>\n",
              "    <tr>\n",
              "      <th>0</th>\n",
              "      <td>But the shoot was a tough one.</td>\n",
              "      <td>তবে শ্যুটটা খুব মুশকিলের ছিল।</td>\n",
              "    </tr>\n",
              "    <tr>\n",
              "      <th>1</th>\n",
              "      <td>Road construction started.</td>\n",
              "      <td>রাস্তা নির্মাণ শুরু হয়েছে।</td>\n",
              "    </tr>\n",
              "    <tr>\n",
              "      <th>2</th>\n",
              "      <td>Why did he pay so much?</td>\n",
              "      <td>কেন তিনি এত টাকা দিতেন?</td>\n",
              "    </tr>\n",
              "    <tr>\n",
              "      <th>3</th>\n",
              "      <td>\"AT ITS worst, this has been Satan's century.</td>\n",
              "      <td>\"এই শতাব্দীর প্রচণ্ড ভয়াবহতা এটাকে শয়তানের এক ...</td>\n",
              "    </tr>\n",
              "    <tr>\n",
              "      <th>4</th>\n",
              "      <td>That's our only demand.</td>\n",
              "      <td>সেটাই আমাদের একমাত্র দাবি।</td>\n",
              "    </tr>\n",
              "    <tr>\n",
              "      <th>...</th>\n",
              "      <td>...</td>\n",
              "      <td>...</td>\n",
              "    </tr>\n",
              "    <tr>\n",
              "      <th>111015</th>\n",
              "      <td>Turmeric powder 1 tea spoon</td>\n",
              "      <td>দারুচিনি-গুঁড়া ১ চা-চামচ।</td>\n",
              "    </tr>\n",
              "    <tr>\n",
              "      <th>111016</th>\n",
              "      <td>Photo: Facebook.</td>\n",
              "      <td>ছবি: ফেসবুক থেকে নেয়া।</td>\n",
              "    </tr>\n",
              "    <tr>\n",
              "      <th>111017</th>\n",
              "      <td>Strengthening ties with Saudi Arabia</td>\n",
              "      <td>সৌদি আরবের সঙ্গে সম্পর্ক শক্ত করার উদ্যোগ</td>\n",
              "    </tr>\n",
              "    <tr>\n",
              "      <th>111018</th>\n",
              "      <td>This is some brief footage Eva took:</td>\n",
              "      <td>এভার তোলা কিছু বিস্তারিত দৃশ্য:</td>\n",
              "    </tr>\n",
              "    <tr>\n",
              "      <th>111019</th>\n",
              "      <td>And how many towns did We destroy which had st...</td>\n",
              "      <td>আর জনপদদের কতটাকে যে আমরা ধ্বংস করেছি যে গর্ব ...</td>\n",
              "    </tr>\n",
              "  </tbody>\n",
              "</table>\n",
              "<p>111020 rows × 2 columns</p>\n",
              "</div>\n",
              "      <button class=\"colab-df-convert\" onclick=\"convertToInteractive('df-2ed6d99a-58c2-4c64-ab7a-b18980a28a06')\"\n",
              "              title=\"Convert this dataframe to an interactive table.\"\n",
              "              style=\"display:none;\">\n",
              "        \n",
              "  <svg xmlns=\"http://www.w3.org/2000/svg\" height=\"24px\"viewBox=\"0 0 24 24\"\n",
              "       width=\"24px\">\n",
              "    <path d=\"M0 0h24v24H0V0z\" fill=\"none\"/>\n",
              "    <path d=\"M18.56 5.44l.94 2.06.94-2.06 2.06-.94-2.06-.94-.94-2.06-.94 2.06-2.06.94zm-11 1L8.5 8.5l.94-2.06 2.06-.94-2.06-.94L8.5 2.5l-.94 2.06-2.06.94zm10 10l.94 2.06.94-2.06 2.06-.94-2.06-.94-.94-2.06-.94 2.06-2.06.94z\"/><path d=\"M17.41 7.96l-1.37-1.37c-.4-.4-.92-.59-1.43-.59-.52 0-1.04.2-1.43.59L10.3 9.45l-7.72 7.72c-.78.78-.78 2.05 0 2.83L4 21.41c.39.39.9.59 1.41.59.51 0 1.02-.2 1.41-.59l7.78-7.78 2.81-2.81c.8-.78.8-2.07 0-2.86zM5.41 20L4 18.59l7.72-7.72 1.47 1.35L5.41 20z\"/>\n",
              "  </svg>\n",
              "      </button>\n",
              "      \n",
              "  <style>\n",
              "    .colab-df-container {\n",
              "      display:flex;\n",
              "      flex-wrap:wrap;\n",
              "      gap: 12px;\n",
              "    }\n",
              "\n",
              "    .colab-df-convert {\n",
              "      background-color: #E8F0FE;\n",
              "      border: none;\n",
              "      border-radius: 50%;\n",
              "      cursor: pointer;\n",
              "      display: none;\n",
              "      fill: #1967D2;\n",
              "      height: 32px;\n",
              "      padding: 0 0 0 0;\n",
              "      width: 32px;\n",
              "    }\n",
              "\n",
              "    .colab-df-convert:hover {\n",
              "      background-color: #E2EBFA;\n",
              "      box-shadow: 0px 1px 2px rgba(60, 64, 67, 0.3), 0px 1px 3px 1px rgba(60, 64, 67, 0.15);\n",
              "      fill: #174EA6;\n",
              "    }\n",
              "\n",
              "    [theme=dark] .colab-df-convert {\n",
              "      background-color: #3B4455;\n",
              "      fill: #D2E3FC;\n",
              "    }\n",
              "\n",
              "    [theme=dark] .colab-df-convert:hover {\n",
              "      background-color: #434B5C;\n",
              "      box-shadow: 0px 1px 3px 1px rgba(0, 0, 0, 0.15);\n",
              "      filter: drop-shadow(0px 1px 2px rgba(0, 0, 0, 0.3));\n",
              "      fill: #FFFFFF;\n",
              "    }\n",
              "  </style>\n",
              "\n",
              "      <script>\n",
              "        const buttonEl =\n",
              "          document.querySelector('#df-2ed6d99a-58c2-4c64-ab7a-b18980a28a06 button.colab-df-convert');\n",
              "        buttonEl.style.display =\n",
              "          google.colab.kernel.accessAllowed ? 'block' : 'none';\n",
              "\n",
              "        async function convertToInteractive(key) {\n",
              "          const element = document.querySelector('#df-2ed6d99a-58c2-4c64-ab7a-b18980a28a06');\n",
              "          const dataTable =\n",
              "            await google.colab.kernel.invokeFunction('convertToInteractive',\n",
              "                                                     [key], {});\n",
              "          if (!dataTable) return;\n",
              "\n",
              "          const docLinkHtml = 'Like what you see? Visit the ' +\n",
              "            '<a target=\"_blank\" href=https://colab.research.google.com/notebooks/data_table.ipynb>data table notebook</a>'\n",
              "            + ' to learn more about interactive tables.';\n",
              "          element.innerHTML = '';\n",
              "          dataTable['output_type'] = 'display_data';\n",
              "          await google.colab.output.renderOutput(dataTable, element);\n",
              "          const docLink = document.createElement('div');\n",
              "          docLink.innerHTML = docLinkHtml;\n",
              "          element.appendChild(docLink);\n",
              "        }\n",
              "      </script>\n",
              "    </div>\n",
              "  </div>\n",
              "  "
            ]
          },
          "metadata": {},
          "execution_count": 6
        }
      ]
    },
    {
      "cell_type": "code",
      "source": [
        "train_dev_data"
      ],
      "metadata": {
        "colab": {
          "base_uri": "https://localhost:8080/",
          "height": 424
        },
        "id": "j4TEJBgAAStN",
        "outputId": "4b087a45-ce13-49c5-f6d0-395585e608b4"
      },
      "id": "j4TEJBgAAStN",
      "execution_count": 7,
      "outputs": [
        {
          "output_type": "execute_result",
          "data": {
            "text/plain": [
              "                                                    src  \\\n",
              "0     We beg our Protestant and Jewish friends to pu...   \n",
              "1     Sa'd advised Muhammad: \"Don't be hard on him. ...   \n",
              "2                          Photo by 'Save Gaza Project'   \n",
              "3     So, therefore, we need to test batteries under...   \n",
              "4       This party is also contesting in the elections.   \n",
              "...                                                 ...   \n",
              "4621                                      But so it is.   \n",
              "4622                      But the work was not started.   \n",
              "4623  The sixth volume of the Polyglot contained var...   \n",
              "4624                                 They need answers.   \n",
              "4625                      But the game is not over yet.   \n",
              "\n",
              "                                                    tgt  \n",
              "0     কোন কোন ক্ষেত্রে কর্তৃপক্ষ এবং ধর্মীয় নেতারা ...  \n",
              "1     সা'দ মুহাম্মাদকে বলেন: \"তার প্রতি কঠোর হবেন না...  \n",
              "2                           ছবি \"সেভ গাজা প্রজেক্টের\"।'  \n",
              "3     অতএব, আমআদের কিছুটা মান অবস্থাগুলির অধীনে ব্যা...  \n",
              "4        নির্বাচনে এই দলের মধ্যেই প্রতিদ্বন্দ্বিতা হবে।  \n",
              "...                                                 ...  \n",
              "4621                                   তবে তা যেমন ঠিক।  \n",
              "4622                                 তবে কাজ শুরু হয়নি।  \n",
              "4623  পলিগ্লটের ষষ্ঠ খণ্ডে বাইবেল অধ্যয়নের জন্য বিভি...  \n",
              "4624                      তাঁদের কাছে জবাব চাওয়া হয়েছে।  \n",
              "4625                   কিন্তু কখনোই খেলা শেষ করে আসিনি।  \n",
              "\n",
              "[4626 rows x 2 columns]"
            ],
            "text/html": [
              "\n",
              "  <div id=\"df-8ba767c4-991a-4c5a-b545-583e47475723\">\n",
              "    <div class=\"colab-df-container\">\n",
              "      <div>\n",
              "<style scoped>\n",
              "    .dataframe tbody tr th:only-of-type {\n",
              "        vertical-align: middle;\n",
              "    }\n",
              "\n",
              "    .dataframe tbody tr th {\n",
              "        vertical-align: top;\n",
              "    }\n",
              "\n",
              "    .dataframe thead th {\n",
              "        text-align: right;\n",
              "    }\n",
              "</style>\n",
              "<table border=\"1\" class=\"dataframe\">\n",
              "  <thead>\n",
              "    <tr style=\"text-align: right;\">\n",
              "      <th></th>\n",
              "      <th>src</th>\n",
              "      <th>tgt</th>\n",
              "    </tr>\n",
              "  </thead>\n",
              "  <tbody>\n",
              "    <tr>\n",
              "      <th>0</th>\n",
              "      <td>We beg our Protestant and Jewish friends to pu...</td>\n",
              "      <td>কোন কোন ক্ষেত্রে কর্তৃপক্ষ এবং ধর্মীয় নেতারা ...</td>\n",
              "    </tr>\n",
              "    <tr>\n",
              "      <th>1</th>\n",
              "      <td>Sa'd advised Muhammad: \"Don't be hard on him. ...</td>\n",
              "      <td>সা'দ মুহাম্মাদকে বলেন: \"তার প্রতি কঠোর হবেন না...</td>\n",
              "    </tr>\n",
              "    <tr>\n",
              "      <th>2</th>\n",
              "      <td>Photo by 'Save Gaza Project'</td>\n",
              "      <td>ছবি \"সেভ গাজা প্রজেক্টের\"।'</td>\n",
              "    </tr>\n",
              "    <tr>\n",
              "      <th>3</th>\n",
              "      <td>So, therefore, we need to test batteries under...</td>\n",
              "      <td>অতএব, আমআদের কিছুটা মান অবস্থাগুলির অধীনে ব্যা...</td>\n",
              "    </tr>\n",
              "    <tr>\n",
              "      <th>4</th>\n",
              "      <td>This party is also contesting in the elections.</td>\n",
              "      <td>নির্বাচনে এই দলের মধ্যেই প্রতিদ্বন্দ্বিতা হবে।</td>\n",
              "    </tr>\n",
              "    <tr>\n",
              "      <th>...</th>\n",
              "      <td>...</td>\n",
              "      <td>...</td>\n",
              "    </tr>\n",
              "    <tr>\n",
              "      <th>4621</th>\n",
              "      <td>But so it is.</td>\n",
              "      <td>তবে তা যেমন ঠিক।</td>\n",
              "    </tr>\n",
              "    <tr>\n",
              "      <th>4622</th>\n",
              "      <td>But the work was not started.</td>\n",
              "      <td>তবে কাজ শুরু হয়নি।</td>\n",
              "    </tr>\n",
              "    <tr>\n",
              "      <th>4623</th>\n",
              "      <td>The sixth volume of the Polyglot contained var...</td>\n",
              "      <td>পলিগ্লটের ষষ্ঠ খণ্ডে বাইবেল অধ্যয়নের জন্য বিভি...</td>\n",
              "    </tr>\n",
              "    <tr>\n",
              "      <th>4624</th>\n",
              "      <td>They need answers.</td>\n",
              "      <td>তাঁদের কাছে জবাব চাওয়া হয়েছে।</td>\n",
              "    </tr>\n",
              "    <tr>\n",
              "      <th>4625</th>\n",
              "      <td>But the game is not over yet.</td>\n",
              "      <td>কিন্তু কখনোই খেলা শেষ করে আসিনি।</td>\n",
              "    </tr>\n",
              "  </tbody>\n",
              "</table>\n",
              "<p>4626 rows × 2 columns</p>\n",
              "</div>\n",
              "      <button class=\"colab-df-convert\" onclick=\"convertToInteractive('df-8ba767c4-991a-4c5a-b545-583e47475723')\"\n",
              "              title=\"Convert this dataframe to an interactive table.\"\n",
              "              style=\"display:none;\">\n",
              "        \n",
              "  <svg xmlns=\"http://www.w3.org/2000/svg\" height=\"24px\"viewBox=\"0 0 24 24\"\n",
              "       width=\"24px\">\n",
              "    <path d=\"M0 0h24v24H0V0z\" fill=\"none\"/>\n",
              "    <path d=\"M18.56 5.44l.94 2.06.94-2.06 2.06-.94-2.06-.94-.94-2.06-.94 2.06-2.06.94zm-11 1L8.5 8.5l.94-2.06 2.06-.94-2.06-.94L8.5 2.5l-.94 2.06-2.06.94zm10 10l.94 2.06.94-2.06 2.06-.94-2.06-.94-.94-2.06-.94 2.06-2.06.94z\"/><path d=\"M17.41 7.96l-1.37-1.37c-.4-.4-.92-.59-1.43-.59-.52 0-1.04.2-1.43.59L10.3 9.45l-7.72 7.72c-.78.78-.78 2.05 0 2.83L4 21.41c.39.39.9.59 1.41.59.51 0 1.02-.2 1.41-.59l7.78-7.78 2.81-2.81c.8-.78.8-2.07 0-2.86zM5.41 20L4 18.59l7.72-7.72 1.47 1.35L5.41 20z\"/>\n",
              "  </svg>\n",
              "      </button>\n",
              "      \n",
              "  <style>\n",
              "    .colab-df-container {\n",
              "      display:flex;\n",
              "      flex-wrap:wrap;\n",
              "      gap: 12px;\n",
              "    }\n",
              "\n",
              "    .colab-df-convert {\n",
              "      background-color: #E8F0FE;\n",
              "      border: none;\n",
              "      border-radius: 50%;\n",
              "      cursor: pointer;\n",
              "      display: none;\n",
              "      fill: #1967D2;\n",
              "      height: 32px;\n",
              "      padding: 0 0 0 0;\n",
              "      width: 32px;\n",
              "    }\n",
              "\n",
              "    .colab-df-convert:hover {\n",
              "      background-color: #E2EBFA;\n",
              "      box-shadow: 0px 1px 2px rgba(60, 64, 67, 0.3), 0px 1px 3px 1px rgba(60, 64, 67, 0.15);\n",
              "      fill: #174EA6;\n",
              "    }\n",
              "\n",
              "    [theme=dark] .colab-df-convert {\n",
              "      background-color: #3B4455;\n",
              "      fill: #D2E3FC;\n",
              "    }\n",
              "\n",
              "    [theme=dark] .colab-df-convert:hover {\n",
              "      background-color: #434B5C;\n",
              "      box-shadow: 0px 1px 3px 1px rgba(0, 0, 0, 0.15);\n",
              "      filter: drop-shadow(0px 1px 2px rgba(0, 0, 0, 0.3));\n",
              "      fill: #FFFFFF;\n",
              "    }\n",
              "  </style>\n",
              "\n",
              "      <script>\n",
              "        const buttonEl =\n",
              "          document.querySelector('#df-8ba767c4-991a-4c5a-b545-583e47475723 button.colab-df-convert');\n",
              "        buttonEl.style.display =\n",
              "          google.colab.kernel.accessAllowed ? 'block' : 'none';\n",
              "\n",
              "        async function convertToInteractive(key) {\n",
              "          const element = document.querySelector('#df-8ba767c4-991a-4c5a-b545-583e47475723');\n",
              "          const dataTable =\n",
              "            await google.colab.kernel.invokeFunction('convertToInteractive',\n",
              "                                                     [key], {});\n",
              "          if (!dataTable) return;\n",
              "\n",
              "          const docLinkHtml = 'Like what you see? Visit the ' +\n",
              "            '<a target=\"_blank\" href=https://colab.research.google.com/notebooks/data_table.ipynb>data table notebook</a>'\n",
              "            + ' to learn more about interactive tables.';\n",
              "          element.innerHTML = '';\n",
              "          dataTable['output_type'] = 'display_data';\n",
              "          await google.colab.output.renderOutput(dataTable, element);\n",
              "          const docLink = document.createElement('div');\n",
              "          docLink.innerHTML = docLinkHtml;\n",
              "          element.appendChild(docLink);\n",
              "        }\n",
              "      </script>\n",
              "    </div>\n",
              "  </div>\n",
              "  "
            ]
          },
          "metadata": {},
          "execution_count": 7
        }
      ]
    },
    {
      "cell_type": "markdown",
      "source": [
        "Now, one thing we need to decide on is the number of words per sentence that we should take. We look below look at our training data's source sentences to see what kind of input sentences we encounter."
      ],
      "metadata": {
        "id": "sIIvKzmeM_qc"
      },
      "id": "sIIvKzmeM_qc"
    },
    {
      "cell_type": "code",
      "source": [
        "def sent_by_word_count(data, word_counts):\n",
        "    sentences_filtered_word_num = {}\n",
        "    for sent in data:\n",
        "        sent_num_words = len(sent.split())\n",
        "        for num_words in word_counts:\n",
        "            if sent_num_words <= num_words:\n",
        "                sentences_filtered_word_num[num_words] = sentences_filtered_word_num.get(num_words, 0) + 1\n",
        "    return sentences_filtered_word_num"
      ],
      "metadata": {
        "id": "6felsJiiYpEX"
      },
      "id": "6felsJiiYpEX",
      "execution_count": 20,
      "outputs": []
    },
    {
      "cell_type": "code",
      "source": [
        "sentences_filtered_word_num = sent_by_word_count(train_data['src'], list(range(10, 151, 10)))\n",
        "for num_words, num_sentences in sentences_filtered_word_num.items():\n",
        "    print(f\"The number of english sentences with <= {num_words} words are: {num_sentences}\")"
      ],
      "metadata": {
        "colab": {
          "base_uri": "https://localhost:8080/"
        },
        "id": "QbOtXqInBEVY",
        "outputId": "bec9fc7a-479a-4999-998c-b00ed5cef2f7"
      },
      "id": "QbOtXqInBEVY",
      "execution_count": 21,
      "outputs": [
        {
          "output_type": "stream",
          "name": "stdout",
          "text": [
            "The number of english sentences with <= 10 words are: 69625\n",
            "The number of english sentences with <= 20 words are: 94747\n",
            "The number of english sentences with <= 30 words are: 105236\n",
            "The number of english sentences with <= 40 words are: 109011\n",
            "The number of english sentences with <= 50 words are: 110191\n",
            "The number of english sentences with <= 60 words are: 110569\n",
            "The number of english sentences with <= 70 words are: 110761\n",
            "The number of english sentences with <= 80 words are: 110842\n",
            "The number of english sentences with <= 90 words are: 110887\n",
            "The number of english sentences with <= 100 words are: 110925\n",
            "The number of english sentences with <= 110 words are: 110955\n",
            "The number of english sentences with <= 120 words are: 110975\n",
            "The number of english sentences with <= 130 words are: 110989\n",
            "The number of english sentences with <= 140 words are: 110995\n",
            "The number of english sentences with <= 150 words are: 110999\n"
          ]
        }
      ]
    },
    {
      "cell_type": "code",
      "source": [
        "sentences_filtered_word_num = sent_by_word_count(train_data['tgt'], list(range(10, 151, 10)))\n",
        "for num_words, num_sentences in sentences_filtered_word_num.items():\n",
        "    print(f\"The number of bengali sentences with <= {num_words} words are: {num_sentences}\")"
      ],
      "metadata": {
        "colab": {
          "base_uri": "https://localhost:8080/"
        },
        "id": "16V7a5-fsYwz",
        "outputId": "d2aa5078-45b8-476b-861d-6e517edf166d"
      },
      "id": "16V7a5-fsYwz",
      "execution_count": 22,
      "outputs": [
        {
          "output_type": "stream",
          "name": "stdout",
          "text": [
            "The number of bengali sentences with <= 10 words are: 76066\n",
            "The number of bengali sentences with <= 20 words are: 99593\n",
            "The number of bengali sentences with <= 30 words are: 107265\n",
            "The number of bengali sentences with <= 40 words are: 109611\n",
            "The number of bengali sentences with <= 50 words are: 110344\n",
            "The number of bengali sentences with <= 60 words are: 110647\n",
            "The number of bengali sentences with <= 70 words are: 110790\n",
            "The number of bengali sentences with <= 80 words are: 110863\n",
            "The number of bengali sentences with <= 90 words are: 110920\n",
            "The number of bengali sentences with <= 100 words are: 110957\n",
            "The number of bengali sentences with <= 110 words are: 110970\n",
            "The number of bengali sentences with <= 120 words are: 110982\n",
            "The number of bengali sentences with <= 130 words are: 110991\n",
            "The number of bengali sentences with <= 140 words are: 110998\n",
            "The number of bengali sentences with <= 150 words are: 111004\n"
          ]
        }
      ]
    },
    {
      "cell_type": "markdown",
      "source": [
        "Looking at the above figures, we see there are not that many sentences of length longer than 60."
      ],
      "metadata": {
        "id": "DGO00XMQsdby"
      },
      "id": "DGO00XMQsdby"
    },
    {
      "cell_type": "markdown",
      "source": [
        "Now, we look at the number of unique words in both the source and target sentences."
      ],
      "metadata": {
        "id": "C8a5KqKMJIkX"
      },
      "id": "C8a5KqKMJIkX"
    },
    {
      "cell_type": "code",
      "source": [
        "vocab_en = set([word for sent in train_data['src'].values for word in sent.split()])"
      ],
      "metadata": {
        "id": "LZAt-XUrMvgd"
      },
      "id": "LZAt-XUrMvgd",
      "execution_count": 17,
      "outputs": []
    },
    {
      "cell_type": "code",
      "source": [
        "vocab_ben = set([word for sent in train_data['tgt'] for word in sent.split()])"
      ],
      "metadata": {
        "id": "De5jLFSLFuAN"
      },
      "id": "De5jLFSLFuAN",
      "execution_count": 18,
      "outputs": []
    },
    {
      "cell_type": "code",
      "source": [
        "print(\"Number of unique words in english train data:\", len(vocab_en))\n",
        "print(\"Number of unique words in bengali train data:\", len(vocab_ben))"
      ],
      "metadata": {
        "colab": {
          "base_uri": "https://localhost:8080/"
        },
        "id": "_noeG9yVGhlD",
        "outputId": "6ef301ce-cf56-4b63-9fa9-7fedf55fd819"
      },
      "id": "_noeG9yVGhlD",
      "execution_count": 19,
      "outputs": [
        {
          "output_type": "stream",
          "name": "stdout",
          "text": [
            "Number of unique words in english train data: 116349\n",
            "Number of unique words in bengali train data: 148459\n"
          ]
        }
      ]
    },
    {
      "cell_type": "markdown",
      "source": [
        "### Tokenization and Normalization"
      ],
      "metadata": {
        "id": "R7l8r-zWW93z"
      },
      "id": "R7l8r-zWW93z"
    },
    {
      "cell_type": "markdown",
      "source": [
        "We create will create massive text files for both English and Bengali(from the entire dataset except the `train_dev_data`) to train our Byte-Pair Tokenizer for the most frequently occuring characters. "
      ],
      "metadata": {
        "id": "V9sky-K9fXmv"
      },
      "id": "V9sky-K9fXmv"
    },
    {
      "cell_type": "code",
      "source": [
        "with open('eng.txt', 'w') as f:\n",
        "    f.write('\\n'.join(train_data['src'].iloc[[idx for idx in train_data.index if idx not in train_dev_data.index]]))"
      ],
      "metadata": {
        "id": "jnob4fj-OevZ"
      },
      "id": "jnob4fj-OevZ",
      "execution_count": 8,
      "outputs": []
    },
    {
      "cell_type": "code",
      "source": [
        "with open('ben.txt', 'w') as f:\n",
        "    f.write('\\n'.join(train_data['tgt'].iloc[[idx for idx in train_data.index if idx not in train_dev_data.index]]))"
      ],
      "metadata": {
        "id": "qQu8hRyWeIdU"
      },
      "id": "qQu8hRyWeIdU",
      "execution_count": 9,
      "outputs": []
    },
    {
      "cell_type": "markdown",
      "source": [
        "We train the Byte-Pair Encoder model with vocab size of 16,000 for both English and Bengali."
      ],
      "metadata": {
        "id": "UjPpVVVrjMLV"
      },
      "id": "UjPpVVVrjMLV"
    },
    {
      "cell_type": "code",
      "source": [
        "spm.SentencePieceTrainer.train('--input=eng.txt --model_prefix=eng_bpe --vocab_size=16000 --model_type=bpe --normalization_rule_name=nfkc_cf --bos_id=-1 --eos_id=1 --unk_id=2 --pad_id=0')"
      ],
      "metadata": {
        "id": "XHZv0Z25eQQw"
      },
      "id": "XHZv0Z25eQQw",
      "execution_count": 44,
      "outputs": []
    },
    {
      "cell_type": "code",
      "source": [
        "spm.SentencePieceTrainer.train('--input=ben.txt --model_prefix=ben_bpe --vocab_size=16000 --model_type=bpe --normalization_rule_name=nfkc_cf --bos_id=-1 --eos_id=1 --unk_id=2 --pad_id=0')"
      ],
      "metadata": {
        "id": "vkTtyUWkgnU4"
      },
      "id": "vkTtyUWkgnU4",
      "execution_count": 45,
      "outputs": []
    },
    {
      "cell_type": "markdown",
      "source": [
        "The following two examples show how we the trained BPE encodes subwords to ids, which will be further padded to give rise to the format in which we will input data in our model."
      ],
      "metadata": {
        "id": "2khgwpZwwojv"
      },
      "id": "2khgwpZwwojv"
    },
    {
      "cell_type": "code",
      "source": [
        "sp_en_bpe = spm.SentencePieceProcessor()\n",
        "sp_en_bpe.load('eng_bpe.model')\n",
        "\n",
        "print(\"*** ENGLISH SENTENCE ***\")\n",
        "print(train_data['src'].iloc[0])\n",
        "print('*** ENGLISH BPE ***')\n",
        "print(sp_en_bpe.encode_as_pieces(train_data['src'].iloc[0]))\n",
        "print(sp_en_bpe.encode_as_ids(train_data['src'].iloc[0]))"
      ],
      "metadata": {
        "colab": {
          "base_uri": "https://localhost:8080/"
        },
        "id": "p-C9TuggpdJP",
        "outputId": "ca3417ec-5b99-4076-ea74-0826c12479af"
      },
      "id": "p-C9TuggpdJP",
      "execution_count": 46,
      "outputs": [
        {
          "output_type": "stream",
          "name": "stdout",
          "text": [
            "*** ENGLISH SENTENCE ***\n",
            "But the shoot was a tough one.\n",
            "*** ENGLISH BPE ***\n",
            "['▁but', '▁the', '▁shoot', '▁was', '▁a', '▁tough', '▁one', '.']\n",
            "[148, 7, 2619, 86, 5, 5192, 230, 15972]\n"
          ]
        }
      ]
    },
    {
      "cell_type": "code",
      "source": [
        "sp_ben_bpe = spm.SentencePieceProcessor()\n",
        "sp_ben_bpe.load('ben_bpe.model')\n",
        "\n",
        "print(\"*** BENGALI SENTENCE ***\")\n",
        "print(train_data['tgt'].iloc[0])\n",
        "print('*** BENGALI BPE ***')\n",
        "print(sp_ben_bpe.encode_as_pieces(train_data['tgt'].iloc[0]))\n",
        "print(sp_ben_bpe.encode_as_ids(train_data['tgt'].iloc[0]))"
      ],
      "metadata": {
        "colab": {
          "base_uri": "https://localhost:8080/"
        },
        "id": "wJmWUZJJqVS3",
        "outputId": "4b5d7a88-5223-4310-81a7-f1b4da57e976"
      },
      "id": "wJmWUZJJqVS3",
      "execution_count": 47,
      "outputs": [
        {
          "output_type": "stream",
          "name": "stdout",
          "text": [
            "*** BENGALI SENTENCE ***\n",
            "তবে শ্যুটটা খুব মুশকিলের ছিল।\n",
            "*** BENGALI BPE ***\n",
            "['▁তবে', '▁শ্যু', 'ট', 'টা', '▁খুব', '▁মু', 'শক', 'িলের', '▁ছিল', '।']\n",
            "[282, 8825, 15902, 92, 488, 224, 5925, 8969, 155, 15900]\n"
          ]
        }
      ]
    },
    {
      "cell_type": "markdown",
      "source": [
        "### Build Data Generator"
      ],
      "metadata": {
        "id": "cEENZOzwXFJd"
      },
      "id": "cEENZOzwXFJd"
    },
    {
      "cell_type": "markdown",
      "source": [
        "Now, we come to the final phase of data pre-processing i.e. building the data generator which can be feed data to the model continually through the epochs.\\\n",
        "The data generator will yield tuples of English and Bengali sentences where both the English and Bengali sentences are padded and encoded as list of integers corresponding to the respective index in the vocabualary(generated by BPE). "
      ],
      "metadata": {
        "id": "BqcsSP1859b5"
      },
      "id": "BqcsSP1859b5"
    },
    {
      "cell_type": "code",
      "source": [
        "def data_generator(batch_size, src, tgt, maxlen=60, shuffle=False, verbose=False):\n",
        "    num_lines = len(src)\n",
        "    \n",
        "    lines_index = [*range(num_lines)]\n",
        "    \n",
        "    if shuffle:\n",
        "        np.random.shuffle(lines_index)\n",
        "    \n",
        "    index = 0\n",
        "    while True:\n",
        "        buffer_src = list()\n",
        "        buffer_tgt = list() \n",
        "                \n",
        "        max_len = 0 \n",
        "        for i in range(batch_size):\n",
        "            if index >= num_lines:\n",
        "                index = 0\n",
        "                if shuffle:\n",
        "                    np.random.shuffle(lines_index)\n",
        "            \n",
        "            buffer_src.append(src[lines_index[index]])\n",
        "            buffer_tgt.append(tgt[lines_index[index]])\n",
        "\n",
        "            \n",
        "            \n",
        "            index += 1\n",
        "\n",
        "\n",
        "        batch_src = pad_sequences(buffer_src, maxlen = maxlen, padding='post', truncating='post')\n",
        "        batch_tgt = pad_sequences(buffer_tgt, maxlen = maxlen, padding='post', truncating='post')\n",
        "\n",
        "        if verbose: print(\"index=\", index)\n",
        "        yield((batch_src, batch_tgt))"
      ],
      "metadata": {
        "id": "yl1sdeBrtPEk"
      },
      "id": "yl1sdeBrtPEk",
      "execution_count": 74,
      "outputs": []
    },
    {
      "cell_type": "markdown",
      "source": [
        "Let's see how our `data_generator` works. But for that we must convert the `src` and `tgt` as list of integers encoded as per BPE vocabulary."
      ],
      "metadata": {
        "id": "yY0PP5UZAHHp"
      },
      "id": "yY0PP5UZAHHp"
    },
    {
      "cell_type": "code",
      "source": [
        "src_train_data_enc = [sp_en_bpe.encode_as_ids(train_data['src'].iloc[i]) for i in range(train_data.shape[0])]\n",
        "tgt_train_data_enc = [sp_ben_bpe.encode_as_ids(train_data['tgt'].iloc[i]) for i in range(train_data.shape[0])]"
      ],
      "metadata": {
        "id": "zyK0TZUwCDuO"
      },
      "id": "zyK0TZUwCDuO",
      "execution_count": 55,
      "outputs": []
    },
    {
      "cell_type": "code",
      "source": [
        "dg = data_generator(32, src_train_data_enc, tgt_train_data_enc, verbose=True)"
      ],
      "metadata": {
        "id": "b-Pm-ErO_z8v"
      },
      "id": "b-Pm-ErO_z8v",
      "execution_count": 79,
      "outputs": []
    },
    {
      "cell_type": "code",
      "source": [
        "src_batch_1, tgt_batch_1 = next(dg)\n",
        "src_batch_2, tgt_batch_2 = next(dg)"
      ],
      "metadata": {
        "colab": {
          "base_uri": "https://localhost:8080/"
        },
        "id": "aD70kbyyECOt",
        "outputId": "00cce6cf-6261-4968-bee4-cc4391b0718d"
      },
      "id": "aD70kbyyECOt",
      "execution_count": 80,
      "outputs": [
        {
          "output_type": "stream",
          "name": "stdout",
          "text": [
            "index= 32\n",
            "index= 64\n"
          ]
        }
      ]
    },
    {
      "cell_type": "code",
      "source": [
        "print(\"*** Batch-1 ***\")\n",
        "print(\"encoded source shape: \", src_batch_1.shape)\n",
        "print(\"encoded target shape: \", tgt_batch_1.shape)\n",
        "print(\"encoded source example: \", src_batch_1[0])\n",
        "print(\"encoded target example: \", tgt_batch_1[0])\n",
        "print(\"decoded source example: \", sp_en_bpe.DecodeIdsWithCheck([int(x) for x in list(src_batch_1[0]) if x != 0]))\n",
        "print(\"decoded target example: \", sp_ben_bpe.DecodeIdsWithCheck([int(x) for x in list(tgt_batch_1[0]) if x != 0]))\n",
        "\n",
        "print(\"\\n*** Batch-2 ***\")\n",
        "print(\"encoded source shape: \", src_batch_2.shape)\n",
        "print(\"encoded target shape: \", tgt_batch_2.shape)\n",
        "print(\"encoded source example: \", src_batch_2[0])\n",
        "print(\"encoded target example: \", tgt_batch_2[0])\n",
        "print(\"decoded source example: \", sp_en_bpe.DecodeIdsWithCheck([int(x) for x in list(src_batch_2[0]) if x != 0]))\n",
        "print(\"decoded target example: \", sp_ben_bpe.DecodeIdsWithCheck([int(x) for x in list(tgt_batch_2[0]) if x != 0]))"
      ],
      "metadata": {
        "colab": {
          "base_uri": "https://localhost:8080/"
        },
        "id": "8MS_NKvTEkEX",
        "outputId": "68ae707c-f4b7-4ab6-ae54-199fe053b9b5"
      },
      "id": "8MS_NKvTEkEX",
      "execution_count": 92,
      "outputs": [
        {
          "output_type": "stream",
          "name": "stdout",
          "text": [
            "*** Batch-1 ***\n",
            "encoded source shape:  (32, 60)\n",
            "encoded target shape:  (32, 60)\n",
            "encoded source example:  [  148     7  2619    86     5  5192   230 15972     0     0     0     0\n",
            "     0     0     0     0     0     0     0     0     0     0     0     0\n",
            "     0     0     0     0     0     0     0     0     0     0     0     0\n",
            "     0     0     0     0     0     0     0     0     0     0     0     0\n",
            "     0     0     0     0     0     0     0     0     0     0     0     0]\n",
            "encoded target example:  [  282  8825 15902    92   488   224  5925  8969   155 15900     0     0\n",
            "     0     0     0     0     0     0     0     0     0     0     0     0\n",
            "     0     0     0     0     0     0     0     0     0     0     0     0\n",
            "     0     0     0     0     0     0     0     0     0     0     0     0\n",
            "     0     0     0     0     0     0     0     0     0     0     0     0]\n",
            "decoded source example:  but the shoot was a tough one.\n",
            "decoded target example:  তবে শ্যুটটা খুব মুশকিলের ছিল।\n",
            "\n",
            "*** Batch-2 ***\n",
            "encoded source shape:  (32, 60)\n",
            "encoded target shape:  (32, 60)\n",
            "encoded source example:  [ 1795 15980 15959  2230  2299    66     5   450   355     7   261 15980\n",
            " 15959  1136    34  1375   133 13285   170 15987  9336  3508 15982 15978\n",
            "   380   525  5778    25     7  4394 15969   265    43  1955  1376  5156\n",
            "  1015  3177  3489   133 15961 12185 15964 15987     0     0     0     0\n",
            "     0     0     0     0     0     0     0     0     0     0     0     0]\n",
            "encoded target example:  [13586 13417  8569   126 15931 15935 15927  1785  2598   175   355 14726\n",
            "  4689 15895   927   880 15900     0     0     0     0     0     0     0\n",
            "     0     0     0     0     0     0     0     0     0     0     0     0\n",
            "     0     0     0     0     0     0     0     0     0     0     0     0\n",
            "     0     0     0     0     0     0     0     0     0     0     0     0]\n",
            "decoded source example:  rahul's statement comes on a day when the people's bank of china (pboc) purchased 1.01 per cent stake in the mortgage lending major housing development finance corporation (hdfc)\n",
            "decoded target example:  এইচডিএফসি ব্যাঙ্কের ১.০১ শতাংশ শেয়ার কিনেছে পিপলস ব্যাঙ্কল অফ চিন।\n"
          ]
        }
      ]
    },
    {
      "cell_type": "markdown",
      "source": [
        "We will now use the above data generator to train our models."
      ],
      "metadata": {
        "id": "xrZxY_v6NsBC"
      },
      "id": "xrZxY_v6NsBC"
    }
  ],
  "metadata": {
    "kernelspec": {
      "display_name": "Python 3 (ipykernel)",
      "language": "python",
      "name": "python3"
    },
    "language_info": {
      "codemirror_mode": {
        "name": "ipython",
        "version": 3
      },
      "file_extension": ".py",
      "mimetype": "text/x-python",
      "name": "python",
      "nbconvert_exporter": "python",
      "pygments_lexer": "ipython3",
      "version": "3.10.4"
    },
    "colab": {
      "name": "Data-Preparation.ipynb",
      "provenance": [],
      "collapsed_sections": []
    }
  },
  "nbformat": 4,
  "nbformat_minor": 5
}