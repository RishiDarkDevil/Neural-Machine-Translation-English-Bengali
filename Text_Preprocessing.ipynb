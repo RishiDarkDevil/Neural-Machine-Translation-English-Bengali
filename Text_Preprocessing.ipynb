{
  "cells": [
    {
      "cell_type": "markdown",
      "source": [
        "#### Mounting Google Drive"
      ],
      "metadata": {
        "id": "Xgyj7gVCy_tn"
      },
      "id": "Xgyj7gVCy_tn"
    },
    {
      "cell_type": "code",
      "source": [
        "from google.colab import drive\n",
        "drive.mount('/content/drive')"
      ],
      "metadata": {
        "id": "T_V0_4DCzCf0"
      },
      "id": "T_V0_4DCzCf0",
      "execution_count": null,
      "outputs": []
    },
    {
      "cell_type": "code",
      "source": [
        "cd \"/content/drive/MyDrive/IASNLP\""
      ],
      "metadata": {
        "id": "zkUR75UHzHaV"
      },
      "id": "zkUR75UHzHaV",
      "execution_count": null,
      "outputs": []
    },
    {
      "cell_type": "markdown",
      "id": "16ec48fe",
      "metadata": {
        "id": "16ec48fe"
      },
      "source": [
        "### Importing Necessary Libraries"
      ]
    },
    {
      "cell_type": "code",
      "execution_count": 15,
      "id": "dfa63963",
      "metadata": {
        "id": "dfa63963"
      },
      "outputs": [],
      "source": [
        "import numpy as np\n",
        "import pandas as pd\n",
        "\n",
        "from functools import reduce\n",
        "\n",
        "import os"
      ]
    },
    {
      "cell_type": "markdown",
      "id": "37d50333",
      "metadata": {
        "id": "37d50333"
      },
      "source": [
        "### Loading Data"
      ]
    },
    {
      "cell_type": "markdown",
      "id": "81a90423",
      "metadata": {
        "id": "81a90423"
      },
      "source": [
        "We have downloaded the entire Samanantar Parallel Corpus. The data is split by source from where it was collected. We are concerned with the English-Bengali Parallel Corpus for the purpose of our training. Hence, we have removed the English to other Indian Language information. We might include them later in our study or training to see if that improves performance.\n",
        "\n",
        "Due to computational resource constraint, we will take some fraction of data from each source and will pre-process it."
      ]
    },
    {
      "cell_type": "markdown",
      "id": "79730893",
      "metadata": {
        "id": "79730893"
      },
      "source": [
        "Below, we can see the new created source of parallel corpora from various Indian Channels and Programmes for English to Bengali Data. We also have existing parallel corpora from previous workshops and events included."
      ]
    },
    {
      "cell_type": "code",
      "execution_count": 7,
      "id": "36987727",
      "metadata": {
        "colab": {
          "base_uri": "https://localhost:8080/"
        },
        "id": "36987727",
        "outputId": "19f6a8da-b07b-4466-adfe-11f627ebaf53"
      },
      "outputs": [
        {
          "output_type": "stream",
          "name": "stdout",
          "text": [
            "New Data created by Samanantar:\n",
            "anuvaad_dw\t\tasianetnews\t  ie_news\tocr\n",
            "anuvaad-general_corpus\tcoursera\t  ie_sports\toneindia\n",
            "anuvaad_mykhel\t\tdwnews\t\t  ie_tech\tpmi\n",
            "anuvaad_ocr\t\tie_business\t  indiccorp\tsentinel\n",
            "anuvaad_oneindia\tie_education\t  khan_academy\twikipedia\n",
            "anuvaad_pib\t\tie_entertainment  Kurzgesagt\n",
            "anuvaad_pib_archives\tie_general\t  mykhel\n",
            "anuvaad_prothomalo\tie_lifestyle\t  nptel\n",
            "\n",
            "Existing Data Sources before Samanantar:\n",
            "alt\t     cvit-pib\t   GNOME  Mozilla-I10n\t Tanzil   tico19-terminologies\n",
            "banglanmt    ELRC_2922\t   JW300  OpenSubtitles  Tatoeba  Ubuntu\n",
            "bible-uedin  GlobalVoices  KDE4   sipc\t\t TED2020  wikimatrix_opus\n"
          ]
        }
      ],
      "source": [
        "print(\"New Data created by Samanantar:\")\n",
        "!ls ./Data/source_wise_splits/created\n",
        "print(\"\\nExisting Data Sources before Samanantar:\")\n",
        "!ls ./Data/source_wise_splits/existing"
      ]
    },
    {
      "cell_type": "code",
      "execution_count": 10,
      "id": "cd54afda",
      "metadata": {
        "id": "cd54afda"
      },
      "outputs": [],
      "source": [
        "file_names = os.listdir(\"./Data/source_wise_splits/existing\")\n",
        "data_by_source = list()\n",
        "for file_name in file_names:\n",
        "    data_by_source.append(pd.read_csv(\"./Data/source_wise_splits/existing/\"+file_name+\"/en-bn/bn_sents.tsv\", sep=\"\\t\"))"
      ]
    },
    {
      "cell_type": "code",
      "execution_count": 11,
      "id": "6c8a1887",
      "metadata": {
        "id": "6c8a1887"
      },
      "outputs": [],
      "source": [
        "file_names = os.listdir(\"./Data/source_wise_splits/created\")\n",
        "for file_name in file_names:\n",
        "    data_by_source.append(pd.read_csv(\"./Data/source_wise_splits/created/\"+file_name+\"/en-bn/bn_sents.tsv\", sep=\"\\t\"))"
      ]
    },
    {
      "cell_type": "code",
      "source": [
        "data_by_source = [dat.drop('idx', 1) for dat in data_by_source]"
      ],
      "metadata": {
        "id": "F6Fo-ZsW5wit"
      },
      "id": "F6Fo-ZsW5wit",
      "execution_count": null,
      "outputs": []
    },
    {
      "cell_type": "markdown",
      "source": [
        "Let's have a look at one of the loaded files. We can see that there are 3 columns `src` and `tgt` standing for source and target. We now observe that each source sentence has it's bengali translation in the dataset. "
      ],
      "metadata": {
        "id": "kxxRJvX-2cWF"
      },
      "id": "kxxRJvX-2cWF"
    },
    {
      "cell_type": "code",
      "source": [
        "data_by_source[0].head()"
      ],
      "metadata": {
        "colab": {
          "base_uri": "https://localhost:8080/",
          "height": 206
        },
        "id": "9RbhjcIw2SOy",
        "outputId": "aabd5c8d-47e1-47f7-b90d-979bab61dc53"
      },
      "id": "9RbhjcIw2SOy",
      "execution_count": 22,
      "outputs": [
        {
          "output_type": "execute_result",
          "data": {
            "text/plain": [
              "                                                 src  \\\n",
              "0                         Okay, I'll be right there.   \n",
              "1                                Give one's lessons.   \n",
              "2  Much to the Witnesses' surprise, even the pros...   \n",
              "3                              I am at your service.   \n",
              "4  Via Facebook Messenger, Global Voices talked w...   \n",
              "\n",
              "                                                 tgt  \n",
              "0                                     ওকে, এখনই আসছি  \n",
              "1                                          পড়া দেওয়া  \n",
              "2  সাক্ষীরা অত্যন্ত বিস্মিত হন, এমনকি সরকারি উকিল...  \n",
              "3                      আমি তোমাকে সাহায্য করার জন্যই  \n",
              "4  গ্লোবাল ভয়েসস বাংলা'র পক্ষ থেকে আমরা যোগাযোগ ক...  "
            ],
            "text/html": [
              "\n",
              "  <div id=\"df-9d2e5454-f884-4272-8a5f-2a3edec4ac44\">\n",
              "    <div class=\"colab-df-container\">\n",
              "      <div>\n",
              "<style scoped>\n",
              "    .dataframe tbody tr th:only-of-type {\n",
              "        vertical-align: middle;\n",
              "    }\n",
              "\n",
              "    .dataframe tbody tr th {\n",
              "        vertical-align: top;\n",
              "    }\n",
              "\n",
              "    .dataframe thead th {\n",
              "        text-align: right;\n",
              "    }\n",
              "</style>\n",
              "<table border=\"1\" class=\"dataframe\">\n",
              "  <thead>\n",
              "    <tr style=\"text-align: right;\">\n",
              "      <th></th>\n",
              "      <th>src</th>\n",
              "      <th>tgt</th>\n",
              "    </tr>\n",
              "  </thead>\n",
              "  <tbody>\n",
              "    <tr>\n",
              "      <th>0</th>\n",
              "      <td>Okay, I'll be right there.</td>\n",
              "      <td>ওকে, এখনই আসছি</td>\n",
              "    </tr>\n",
              "    <tr>\n",
              "      <th>1</th>\n",
              "      <td>Give one's lessons.</td>\n",
              "      <td>পড়া দেওয়া</td>\n",
              "    </tr>\n",
              "    <tr>\n",
              "      <th>2</th>\n",
              "      <td>Much to the Witnesses' surprise, even the pros...</td>\n",
              "      <td>সাক্ষীরা অত্যন্ত বিস্মিত হন, এমনকি সরকারি উকিল...</td>\n",
              "    </tr>\n",
              "    <tr>\n",
              "      <th>3</th>\n",
              "      <td>I am at your service.</td>\n",
              "      <td>আমি তোমাকে সাহায্য করার জন্যই</td>\n",
              "    </tr>\n",
              "    <tr>\n",
              "      <th>4</th>\n",
              "      <td>Via Facebook Messenger, Global Voices talked w...</td>\n",
              "      <td>গ্লোবাল ভয়েসস বাংলা'র পক্ষ থেকে আমরা যোগাযোগ ক...</td>\n",
              "    </tr>\n",
              "  </tbody>\n",
              "</table>\n",
              "</div>\n",
              "      <button class=\"colab-df-convert\" onclick=\"convertToInteractive('df-9d2e5454-f884-4272-8a5f-2a3edec4ac44')\"\n",
              "              title=\"Convert this dataframe to an interactive table.\"\n",
              "              style=\"display:none;\">\n",
              "        \n",
              "  <svg xmlns=\"http://www.w3.org/2000/svg\" height=\"24px\"viewBox=\"0 0 24 24\"\n",
              "       width=\"24px\">\n",
              "    <path d=\"M0 0h24v24H0V0z\" fill=\"none\"/>\n",
              "    <path d=\"M18.56 5.44l.94 2.06.94-2.06 2.06-.94-2.06-.94-.94-2.06-.94 2.06-2.06.94zm-11 1L8.5 8.5l.94-2.06 2.06-.94-2.06-.94L8.5 2.5l-.94 2.06-2.06.94zm10 10l.94 2.06.94-2.06 2.06-.94-2.06-.94-.94-2.06-.94 2.06-2.06.94z\"/><path d=\"M17.41 7.96l-1.37-1.37c-.4-.4-.92-.59-1.43-.59-.52 0-1.04.2-1.43.59L10.3 9.45l-7.72 7.72c-.78.78-.78 2.05 0 2.83L4 21.41c.39.39.9.59 1.41.59.51 0 1.02-.2 1.41-.59l7.78-7.78 2.81-2.81c.8-.78.8-2.07 0-2.86zM5.41 20L4 18.59l7.72-7.72 1.47 1.35L5.41 20z\"/>\n",
              "  </svg>\n",
              "      </button>\n",
              "      \n",
              "  <style>\n",
              "    .colab-df-container {\n",
              "      display:flex;\n",
              "      flex-wrap:wrap;\n",
              "      gap: 12px;\n",
              "    }\n",
              "\n",
              "    .colab-df-convert {\n",
              "      background-color: #E8F0FE;\n",
              "      border: none;\n",
              "      border-radius: 50%;\n",
              "      cursor: pointer;\n",
              "      display: none;\n",
              "      fill: #1967D2;\n",
              "      height: 32px;\n",
              "      padding: 0 0 0 0;\n",
              "      width: 32px;\n",
              "    }\n",
              "\n",
              "    .colab-df-convert:hover {\n",
              "      background-color: #E2EBFA;\n",
              "      box-shadow: 0px 1px 2px rgba(60, 64, 67, 0.3), 0px 1px 3px 1px rgba(60, 64, 67, 0.15);\n",
              "      fill: #174EA6;\n",
              "    }\n",
              "\n",
              "    [theme=dark] .colab-df-convert {\n",
              "      background-color: #3B4455;\n",
              "      fill: #D2E3FC;\n",
              "    }\n",
              "\n",
              "    [theme=dark] .colab-df-convert:hover {\n",
              "      background-color: #434B5C;\n",
              "      box-shadow: 0px 1px 3px 1px rgba(0, 0, 0, 0.15);\n",
              "      filter: drop-shadow(0px 1px 2px rgba(0, 0, 0, 0.3));\n",
              "      fill: #FFFFFF;\n",
              "    }\n",
              "  </style>\n",
              "\n",
              "      <script>\n",
              "        const buttonEl =\n",
              "          document.querySelector('#df-9d2e5454-f884-4272-8a5f-2a3edec4ac44 button.colab-df-convert');\n",
              "        buttonEl.style.display =\n",
              "          google.colab.kernel.accessAllowed ? 'block' : 'none';\n",
              "\n",
              "        async function convertToInteractive(key) {\n",
              "          const element = document.querySelector('#df-9d2e5454-f884-4272-8a5f-2a3edec4ac44');\n",
              "          const dataTable =\n",
              "            await google.colab.kernel.invokeFunction('convertToInteractive',\n",
              "                                                     [key], {});\n",
              "          if (!dataTable) return;\n",
              "\n",
              "          const docLinkHtml = 'Like what you see? Visit the ' +\n",
              "            '<a target=\"_blank\" href=https://colab.research.google.com/notebooks/data_table.ipynb>data table notebook</a>'\n",
              "            + ' to learn more about interactive tables.';\n",
              "          element.innerHTML = '';\n",
              "          dataTable['output_type'] = 'display_data';\n",
              "          await google.colab.output.renderOutput(dataTable, element);\n",
              "          const docLink = document.createElement('div');\n",
              "          docLink.innerHTML = docLinkHtml;\n",
              "          element.appendChild(docLink);\n",
              "        }\n",
              "      </script>\n",
              "    </div>\n",
              "  </div>\n",
              "  "
            ]
          },
          "metadata": {},
          "execution_count": 22
        }
      ]
    },
    {
      "cell_type": "markdown",
      "source": [
        "Ideally, we will want our training data to be spread across all the sources. Hence, we will merge all the sources together and shuffle them to form our training data. We will take some part of this training data(on which the model won't be trained) to form the training-dev set. The developement set and the test set will be presented later."
      ],
      "metadata": {
        "id": "ltaa01Ec3Dxw"
      },
      "id": "ltaa01Ec3Dxw"
    },
    {
      "cell_type": "code",
      "source": [
        "data = pd.concat(data_by_source, ignore_index=True)"
      ],
      "metadata": {
        "id": "n73iW9px2lZ4"
      },
      "id": "n73iW9px2lZ4",
      "execution_count": 30,
      "outputs": []
    },
    {
      "cell_type": "markdown",
      "source": [
        "We have in total 9251703 parallel sentences for English to Bengali."
      ],
      "metadata": {
        "id": "hQRA8vXF7En_"
      },
      "id": "hQRA8vXF7En_"
    },
    {
      "cell_type": "code",
      "source": [
        "data"
      ],
      "metadata": {
        "colab": {
          "base_uri": "https://localhost:8080/",
          "height": 424
        },
        "id": "yvczhxXM5cOo",
        "outputId": "6e4892b1-64eb-432f-9b65-60f5b32b49bd"
      },
      "id": "yvczhxXM5cOo",
      "execution_count": 31,
      "outputs": [
        {
          "output_type": "execute_result",
          "data": {
            "text/plain": [
              "                                                       src  \\\n",
              "0                               Okay, I'll be right there.   \n",
              "1                                      Give one's lessons.   \n",
              "2        Much to the Witnesses' surprise, even the pros...   \n",
              "3                                    I am at your service.   \n",
              "4        Via Facebook Messenger, Global Voices talked w...   \n",
              "...                                                    ...   \n",
              "9251698  A panel of auditors for auditing listed compan...   \n",
              "9251699  On this consideration, and on certain conditio...   \n",
              "9251700  Under these rules, fixed price method for IPOs...   \n",
              "9251701  Steps are being taken to introduce rural ratio...   \n",
              "9251702  I propose to rationalize rates and to introduc...   \n",
              "\n",
              "                                                       tgt  \n",
              "0                                           ওকে, এখনই আসছি  \n",
              "1                                                পড়া দেওয়া  \n",
              "2        সাক্ষীরা অত্যন্ত বিস্মিত হন, এমনকি সরকারি উকিল...  \n",
              "3                            আমি তোমাকে সাহায্য করার জন্যই  \n",
              "4        গ্লোবাল ভয়েসস বাংলা'র পক্ষ থেকে আমরা যোগাযোগ ক...  \n",
              "...                                                    ...  \n",
              "9251698  নিরীক্ষা কার্যক্রমে শৃঙ্খলা আনয়নে তালিকাভুক্ত...  \n",
              "9251699  সে কারণে কতিপয় শর্ত সাপেক্ষে এসব যন্ত্রাংশের ...  \n",
              "9251700  এতে অভিহিত মূল্যে আইপিও’র জন্য ফিক্সড প্রাইস প...  \n",
              "9251701  টিআর ও ভিজিএফ এর পরিবর্তে পল্লী রেশনিং কর্মসূচ...  \n",
              "9251702  উৎস কর: উৎস করে কয়েকটি ক্ষেত্রে করহার যৌক্তিক...  \n",
              "\n",
              "[9251703 rows x 2 columns]"
            ],
            "text/html": [
              "\n",
              "  <div id=\"df-7195223e-ea56-4032-b10a-5992b70d7bba\">\n",
              "    <div class=\"colab-df-container\">\n",
              "      <div>\n",
              "<style scoped>\n",
              "    .dataframe tbody tr th:only-of-type {\n",
              "        vertical-align: middle;\n",
              "    }\n",
              "\n",
              "    .dataframe tbody tr th {\n",
              "        vertical-align: top;\n",
              "    }\n",
              "\n",
              "    .dataframe thead th {\n",
              "        text-align: right;\n",
              "    }\n",
              "</style>\n",
              "<table border=\"1\" class=\"dataframe\">\n",
              "  <thead>\n",
              "    <tr style=\"text-align: right;\">\n",
              "      <th></th>\n",
              "      <th>src</th>\n",
              "      <th>tgt</th>\n",
              "    </tr>\n",
              "  </thead>\n",
              "  <tbody>\n",
              "    <tr>\n",
              "      <th>0</th>\n",
              "      <td>Okay, I'll be right there.</td>\n",
              "      <td>ওকে, এখনই আসছি</td>\n",
              "    </tr>\n",
              "    <tr>\n",
              "      <th>1</th>\n",
              "      <td>Give one's lessons.</td>\n",
              "      <td>পড়া দেওয়া</td>\n",
              "    </tr>\n",
              "    <tr>\n",
              "      <th>2</th>\n",
              "      <td>Much to the Witnesses' surprise, even the pros...</td>\n",
              "      <td>সাক্ষীরা অত্যন্ত বিস্মিত হন, এমনকি সরকারি উকিল...</td>\n",
              "    </tr>\n",
              "    <tr>\n",
              "      <th>3</th>\n",
              "      <td>I am at your service.</td>\n",
              "      <td>আমি তোমাকে সাহায্য করার জন্যই</td>\n",
              "    </tr>\n",
              "    <tr>\n",
              "      <th>4</th>\n",
              "      <td>Via Facebook Messenger, Global Voices talked w...</td>\n",
              "      <td>গ্লোবাল ভয়েসস বাংলা'র পক্ষ থেকে আমরা যোগাযোগ ক...</td>\n",
              "    </tr>\n",
              "    <tr>\n",
              "      <th>...</th>\n",
              "      <td>...</td>\n",
              "      <td>...</td>\n",
              "    </tr>\n",
              "    <tr>\n",
              "      <th>9251698</th>\n",
              "      <td>A panel of auditors for auditing listed compan...</td>\n",
              "      <td>নিরীক্ষা কার্যক্রমে শৃঙ্খলা আনয়নে তালিকাভুক্ত...</td>\n",
              "    </tr>\n",
              "    <tr>\n",
              "      <th>9251699</th>\n",
              "      <td>On this consideration, and on certain conditio...</td>\n",
              "      <td>সে কারণে কতিপয় শর্ত সাপেক্ষে এসব যন্ত্রাংশের ...</td>\n",
              "    </tr>\n",
              "    <tr>\n",
              "      <th>9251700</th>\n",
              "      <td>Under these rules, fixed price method for IPOs...</td>\n",
              "      <td>এতে অভিহিত মূল্যে আইপিও’র জন্য ফিক্সড প্রাইস প...</td>\n",
              "    </tr>\n",
              "    <tr>\n",
              "      <th>9251701</th>\n",
              "      <td>Steps are being taken to introduce rural ratio...</td>\n",
              "      <td>টিআর ও ভিজিএফ এর পরিবর্তে পল্লী রেশনিং কর্মসূচ...</td>\n",
              "    </tr>\n",
              "    <tr>\n",
              "      <th>9251702</th>\n",
              "      <td>I propose to rationalize rates and to introduc...</td>\n",
              "      <td>উৎস কর: উৎস করে কয়েকটি ক্ষেত্রে করহার যৌক্তিক...</td>\n",
              "    </tr>\n",
              "  </tbody>\n",
              "</table>\n",
              "<p>9251703 rows × 2 columns</p>\n",
              "</div>\n",
              "      <button class=\"colab-df-convert\" onclick=\"convertToInteractive('df-7195223e-ea56-4032-b10a-5992b70d7bba')\"\n",
              "              title=\"Convert this dataframe to an interactive table.\"\n",
              "              style=\"display:none;\">\n",
              "        \n",
              "  <svg xmlns=\"http://www.w3.org/2000/svg\" height=\"24px\"viewBox=\"0 0 24 24\"\n",
              "       width=\"24px\">\n",
              "    <path d=\"M0 0h24v24H0V0z\" fill=\"none\"/>\n",
              "    <path d=\"M18.56 5.44l.94 2.06.94-2.06 2.06-.94-2.06-.94-.94-2.06-.94 2.06-2.06.94zm-11 1L8.5 8.5l.94-2.06 2.06-.94-2.06-.94L8.5 2.5l-.94 2.06-2.06.94zm10 10l.94 2.06.94-2.06 2.06-.94-2.06-.94-.94-2.06-.94 2.06-2.06.94z\"/><path d=\"M17.41 7.96l-1.37-1.37c-.4-.4-.92-.59-1.43-.59-.52 0-1.04.2-1.43.59L10.3 9.45l-7.72 7.72c-.78.78-.78 2.05 0 2.83L4 21.41c.39.39.9.59 1.41.59.51 0 1.02-.2 1.41-.59l7.78-7.78 2.81-2.81c.8-.78.8-2.07 0-2.86zM5.41 20L4 18.59l7.72-7.72 1.47 1.35L5.41 20z\"/>\n",
              "  </svg>\n",
              "      </button>\n",
              "      \n",
              "  <style>\n",
              "    .colab-df-container {\n",
              "      display:flex;\n",
              "      flex-wrap:wrap;\n",
              "      gap: 12px;\n",
              "    }\n",
              "\n",
              "    .colab-df-convert {\n",
              "      background-color: #E8F0FE;\n",
              "      border: none;\n",
              "      border-radius: 50%;\n",
              "      cursor: pointer;\n",
              "      display: none;\n",
              "      fill: #1967D2;\n",
              "      height: 32px;\n",
              "      padding: 0 0 0 0;\n",
              "      width: 32px;\n",
              "    }\n",
              "\n",
              "    .colab-df-convert:hover {\n",
              "      background-color: #E2EBFA;\n",
              "      box-shadow: 0px 1px 2px rgba(60, 64, 67, 0.3), 0px 1px 3px 1px rgba(60, 64, 67, 0.15);\n",
              "      fill: #174EA6;\n",
              "    }\n",
              "\n",
              "    [theme=dark] .colab-df-convert {\n",
              "      background-color: #3B4455;\n",
              "      fill: #D2E3FC;\n",
              "    }\n",
              "\n",
              "    [theme=dark] .colab-df-convert:hover {\n",
              "      background-color: #434B5C;\n",
              "      box-shadow: 0px 1px 3px 1px rgba(0, 0, 0, 0.15);\n",
              "      filter: drop-shadow(0px 1px 2px rgba(0, 0, 0, 0.3));\n",
              "      fill: #FFFFFF;\n",
              "    }\n",
              "  </style>\n",
              "\n",
              "      <script>\n",
              "        const buttonEl =\n",
              "          document.querySelector('#df-7195223e-ea56-4032-b10a-5992b70d7bba button.colab-df-convert');\n",
              "        buttonEl.style.display =\n",
              "          google.colab.kernel.accessAllowed ? 'block' : 'none';\n",
              "\n",
              "        async function convertToInteractive(key) {\n",
              "          const element = document.querySelector('#df-7195223e-ea56-4032-b10a-5992b70d7bba');\n",
              "          const dataTable =\n",
              "            await google.colab.kernel.invokeFunction('convertToInteractive',\n",
              "                                                     [key], {});\n",
              "          if (!dataTable) return;\n",
              "\n",
              "          const docLinkHtml = 'Like what you see? Visit the ' +\n",
              "            '<a target=\"_blank\" href=https://colab.research.google.com/notebooks/data_table.ipynb>data table notebook</a>'\n",
              "            + ' to learn more about interactive tables.';\n",
              "          element.innerHTML = '';\n",
              "          dataTable['output_type'] = 'display_data';\n",
              "          await google.colab.output.renderOutput(dataTable, element);\n",
              "          const docLink = document.createElement('div');\n",
              "          docLink.innerHTML = docLinkHtml;\n",
              "          element.appendChild(docLink);\n",
              "        }\n",
              "      </script>\n",
              "    </div>\n",
              "  </div>\n",
              "  "
            ]
          },
          "metadata": {},
          "execution_count": 31
        }
      ]
    },
    {
      "cell_type": "code",
      "source": [
        ""
      ],
      "metadata": {
        "id": "6uG46fE77rBX"
      },
      "id": "6uG46fE77rBX",
      "execution_count": null,
      "outputs": []
    }
  ],
  "metadata": {
    "kernelspec": {
      "display_name": "Python 3 (ipykernel)",
      "language": "python",
      "name": "python3"
    },
    "language_info": {
      "codemirror_mode": {
        "name": "ipython",
        "version": 3
      },
      "file_extension": ".py",
      "mimetype": "text/x-python",
      "name": "python",
      "nbconvert_exporter": "python",
      "pygments_lexer": "ipython3",
      "version": "3.10.4"
    },
    "colab": {
      "name": "Text-Preprocessing.ipynb",
      "provenance": [],
      "collapsed_sections": []
    }
  },
  "nbformat": 4,
  "nbformat_minor": 5
}