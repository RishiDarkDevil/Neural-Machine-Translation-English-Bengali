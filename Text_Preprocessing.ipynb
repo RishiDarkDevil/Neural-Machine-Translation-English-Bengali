{
  "cells": [
    {
      "cell_type": "markdown",
      "source": [
        "#### Mounting Google Drive"
      ],
      "metadata": {
        "id": "Xgyj7gVCy_tn"
      },
      "id": "Xgyj7gVCy_tn"
    },
    {
      "cell_type": "code",
      "source": [
        "from google.colab import drive\n",
        "drive.mount('/content/drive')"
      ],
      "metadata": {
        "id": "T_V0_4DCzCf0"
      },
      "id": "T_V0_4DCzCf0",
      "execution_count": null,
      "outputs": []
    },
    {
      "cell_type": "code",
      "source": [
        "cd \"/content/drive/MyDrive/IASNLP\""
      ],
      "metadata": {
        "id": "zkUR75UHzHaV"
      },
      "id": "zkUR75UHzHaV",
      "execution_count": null,
      "outputs": []
    },
    {
      "cell_type": "markdown",
      "id": "16ec48fe",
      "metadata": {
        "id": "16ec48fe"
      },
      "source": [
        "### Importing Necessary Libraries"
      ]
    },
    {
      "cell_type": "code",
      "source": [
        "!pip install sentencepiece"
      ],
      "metadata": {
        "id": "S9Hc3W_mtYx9"
      },
      "id": "S9Hc3W_mtYx9",
      "execution_count": 3,
      "outputs": []
    },
    {
      "cell_type": "code",
      "execution_count": 4,
      "id": "dfa63963",
      "metadata": {
        "id": "dfa63963"
      },
      "outputs": [],
      "source": [
        "import numpy as np\n",
        "import pandas as pd\n",
        "import sentencepiece as spm\n",
        "from sklearn.model_selection import train_test_split\n",
        "\n",
        "import matplotlib.pyplot as plt \n",
        "\n",
        "from functools import reduce\n",
        "import os"
      ]
    },
    {
      "cell_type": "markdown",
      "id": "37d50333",
      "metadata": {
        "id": "37d50333"
      },
      "source": [
        "### Loading Data"
      ]
    },
    {
      "cell_type": "markdown",
      "id": "81a90423",
      "metadata": {
        "id": "81a90423"
      },
      "source": [
        "We have downloaded the entire Samanantar Parallel Corpus. The data is split by source from where it was collected. We are concerned with the English-Bengali Parallel Corpus for the purpose of our training. Hence, we have removed the English to other Indian Language information. We might include them later in our study or training to see if that improves performance.\n",
        "\n",
        "Due to computational resource constraint, we will take some fraction of data from each source and will pre-process it."
      ]
    },
    {
      "cell_type": "markdown",
      "id": "79730893",
      "metadata": {
        "id": "79730893"
      },
      "source": [
        "Below, we can see the new created source of parallel corpora from various Indian Channels and Programmes for English to Bengali Data. We also have existing parallel corpora from previous workshops and events included."
      ]
    },
    {
      "cell_type": "code",
      "execution_count": 5,
      "id": "36987727",
      "metadata": {
        "colab": {
          "base_uri": "https://localhost:8080/"
        },
        "id": "36987727",
        "outputId": "c1ec1acf-bacc-48a8-ea1d-0d6e260ffe40"
      },
      "outputs": [
        {
          "output_type": "stream",
          "name": "stdout",
          "text": [
            "New Data created by Samanantar:\n",
            "anuvaad_dw\t\tasianetnews\t  ie_news\tocr\n",
            "anuvaad-general_corpus\tcoursera\t  ie_sports\toneindia\n",
            "anuvaad_mykhel\t\tdwnews\t\t  ie_tech\tpmi\n",
            "anuvaad_ocr\t\tie_business\t  indiccorp\tsentinel\n",
            "anuvaad_oneindia\tie_education\t  khan_academy\twikipedia\n",
            "anuvaad_pib\t\tie_entertainment  Kurzgesagt\n",
            "anuvaad_pib_archives\tie_general\t  mykhel\n",
            "anuvaad_prothomalo\tie_lifestyle\t  nptel\n",
            "\n",
            "Existing Data Sources before Samanantar:\n",
            "alt\t     cvit-pib\t   GNOME  Mozilla-I10n\t Tanzil   tico19-terminologies\n",
            "banglanmt    ELRC_2922\t   JW300  OpenSubtitles  Tatoeba  Ubuntu\n",
            "bible-uedin  GlobalVoices  KDE4   sipc\t\t TED2020  wikimatrix_opus\n"
          ]
        }
      ],
      "source": [
        "print(\"New Data created by Samanantar:\")\n",
        "!ls ./Data/source_wise_splits/created\n",
        "print(\"\\nExisting Data Sources before Samanantar:\")\n",
        "!ls ./Data/source_wise_splits/existing"
      ]
    },
    {
      "cell_type": "code",
      "execution_count": 6,
      "id": "cd54afda",
      "metadata": {
        "id": "cd54afda"
      },
      "outputs": [],
      "source": [
        "file_names = os.listdir(\"./Data/source_wise_splits/existing\")\n",
        "data_by_source = list()\n",
        "for file_name in file_names:\n",
        "    data_by_source.append(pd.read_csv(\"./Data/source_wise_splits/existing/\"+file_name+\"/en-bn/bn_sents.tsv\", sep=\"\\t\"))"
      ]
    },
    {
      "cell_type": "code",
      "execution_count": 7,
      "id": "6c8a1887",
      "metadata": {
        "id": "6c8a1887"
      },
      "outputs": [],
      "source": [
        "file_names = os.listdir(\"./Data/source_wise_splits/created\")\n",
        "for file_name in file_names:\n",
        "    data_by_source.append(pd.read_csv(\"./Data/source_wise_splits/created/\"+file_name+\"/en-bn/bn_sents.tsv\", sep=\"\\t\"))"
      ]
    },
    {
      "cell_type": "code",
      "source": [
        "data_by_source = [dat.drop('idx', 1) for dat in data_by_source]"
      ],
      "metadata": {
        "colab": {
          "base_uri": "https://localhost:8080/"
        },
        "id": "F6Fo-ZsW5wit",
        "outputId": "1653c7e9-08b3-4d7f-93e8-d3d6460f2e23"
      },
      "id": "F6Fo-ZsW5wit",
      "execution_count": 8,
      "outputs": [
        {
          "output_type": "stream",
          "name": "stderr",
          "text": [
            "/usr/local/lib/python3.7/dist-packages/ipykernel_launcher.py:1: FutureWarning: In a future version of pandas all arguments of DataFrame.drop except for the argument 'labels' will be keyword-only\n",
            "  \"\"\"Entry point for launching an IPython kernel.\n"
          ]
        }
      ]
    },
    {
      "cell_type": "markdown",
      "source": [
        "Let's have a look at one of the loaded files. We can see that there are 3 columns `src` and `tgt` standing for source and target. We now observe that each source sentence has it's bengali translation in the dataset. "
      ],
      "metadata": {
        "id": "kxxRJvX-2cWF"
      },
      "id": "kxxRJvX-2cWF"
    },
    {
      "cell_type": "code",
      "source": [
        "data_by_source[0].head()"
      ],
      "metadata": {
        "colab": {
          "base_uri": "https://localhost:8080/",
          "height": 206
        },
        "id": "9RbhjcIw2SOy",
        "outputId": "f366f04e-f3ea-49f2-8cb6-9d203185be75"
      },
      "id": "9RbhjcIw2SOy",
      "execution_count": 9,
      "outputs": [
        {
          "output_type": "execute_result",
          "data": {
            "text/plain": [
              "                                                 src  \\\n",
              "0                         Okay, I'll be right there.   \n",
              "1                                Give one's lessons.   \n",
              "2  Much to the Witnesses' surprise, even the pros...   \n",
              "3                              I am at your service.   \n",
              "4  Via Facebook Messenger, Global Voices talked w...   \n",
              "\n",
              "                                                 tgt  \n",
              "0                                     ওকে, এখনই আসছি  \n",
              "1                                          পড়া দেওয়া  \n",
              "2  সাক্ষীরা অত্যন্ত বিস্মিত হন, এমনকি সরকারি উকিল...  \n",
              "3                      আমি তোমাকে সাহায্য করার জন্যই  \n",
              "4  গ্লোবাল ভয়েসস বাংলা'র পক্ষ থেকে আমরা যোগাযোগ ক...  "
            ],
            "text/html": [
              "\n",
              "  <div id=\"df-d638e481-ad11-4b0e-8646-0eda63b1fef7\">\n",
              "    <div class=\"colab-df-container\">\n",
              "      <div>\n",
              "<style scoped>\n",
              "    .dataframe tbody tr th:only-of-type {\n",
              "        vertical-align: middle;\n",
              "    }\n",
              "\n",
              "    .dataframe tbody tr th {\n",
              "        vertical-align: top;\n",
              "    }\n",
              "\n",
              "    .dataframe thead th {\n",
              "        text-align: right;\n",
              "    }\n",
              "</style>\n",
              "<table border=\"1\" class=\"dataframe\">\n",
              "  <thead>\n",
              "    <tr style=\"text-align: right;\">\n",
              "      <th></th>\n",
              "      <th>src</th>\n",
              "      <th>tgt</th>\n",
              "    </tr>\n",
              "  </thead>\n",
              "  <tbody>\n",
              "    <tr>\n",
              "      <th>0</th>\n",
              "      <td>Okay, I'll be right there.</td>\n",
              "      <td>ওকে, এখনই আসছি</td>\n",
              "    </tr>\n",
              "    <tr>\n",
              "      <th>1</th>\n",
              "      <td>Give one's lessons.</td>\n",
              "      <td>পড়া দেওয়া</td>\n",
              "    </tr>\n",
              "    <tr>\n",
              "      <th>2</th>\n",
              "      <td>Much to the Witnesses' surprise, even the pros...</td>\n",
              "      <td>সাক্ষীরা অত্যন্ত বিস্মিত হন, এমনকি সরকারি উকিল...</td>\n",
              "    </tr>\n",
              "    <tr>\n",
              "      <th>3</th>\n",
              "      <td>I am at your service.</td>\n",
              "      <td>আমি তোমাকে সাহায্য করার জন্যই</td>\n",
              "    </tr>\n",
              "    <tr>\n",
              "      <th>4</th>\n",
              "      <td>Via Facebook Messenger, Global Voices talked w...</td>\n",
              "      <td>গ্লোবাল ভয়েসস বাংলা'র পক্ষ থেকে আমরা যোগাযোগ ক...</td>\n",
              "    </tr>\n",
              "  </tbody>\n",
              "</table>\n",
              "</div>\n",
              "      <button class=\"colab-df-convert\" onclick=\"convertToInteractive('df-d638e481-ad11-4b0e-8646-0eda63b1fef7')\"\n",
              "              title=\"Convert this dataframe to an interactive table.\"\n",
              "              style=\"display:none;\">\n",
              "        \n",
              "  <svg xmlns=\"http://www.w3.org/2000/svg\" height=\"24px\"viewBox=\"0 0 24 24\"\n",
              "       width=\"24px\">\n",
              "    <path d=\"M0 0h24v24H0V0z\" fill=\"none\"/>\n",
              "    <path d=\"M18.56 5.44l.94 2.06.94-2.06 2.06-.94-2.06-.94-.94-2.06-.94 2.06-2.06.94zm-11 1L8.5 8.5l.94-2.06 2.06-.94-2.06-.94L8.5 2.5l-.94 2.06-2.06.94zm10 10l.94 2.06.94-2.06 2.06-.94-2.06-.94-.94-2.06-.94 2.06-2.06.94z\"/><path d=\"M17.41 7.96l-1.37-1.37c-.4-.4-.92-.59-1.43-.59-.52 0-1.04.2-1.43.59L10.3 9.45l-7.72 7.72c-.78.78-.78 2.05 0 2.83L4 21.41c.39.39.9.59 1.41.59.51 0 1.02-.2 1.41-.59l7.78-7.78 2.81-2.81c.8-.78.8-2.07 0-2.86zM5.41 20L4 18.59l7.72-7.72 1.47 1.35L5.41 20z\"/>\n",
              "  </svg>\n",
              "      </button>\n",
              "      \n",
              "  <style>\n",
              "    .colab-df-container {\n",
              "      display:flex;\n",
              "      flex-wrap:wrap;\n",
              "      gap: 12px;\n",
              "    }\n",
              "\n",
              "    .colab-df-convert {\n",
              "      background-color: #E8F0FE;\n",
              "      border: none;\n",
              "      border-radius: 50%;\n",
              "      cursor: pointer;\n",
              "      display: none;\n",
              "      fill: #1967D2;\n",
              "      height: 32px;\n",
              "      padding: 0 0 0 0;\n",
              "      width: 32px;\n",
              "    }\n",
              "\n",
              "    .colab-df-convert:hover {\n",
              "      background-color: #E2EBFA;\n",
              "      box-shadow: 0px 1px 2px rgba(60, 64, 67, 0.3), 0px 1px 3px 1px rgba(60, 64, 67, 0.15);\n",
              "      fill: #174EA6;\n",
              "    }\n",
              "\n",
              "    [theme=dark] .colab-df-convert {\n",
              "      background-color: #3B4455;\n",
              "      fill: #D2E3FC;\n",
              "    }\n",
              "\n",
              "    [theme=dark] .colab-df-convert:hover {\n",
              "      background-color: #434B5C;\n",
              "      box-shadow: 0px 1px 3px 1px rgba(0, 0, 0, 0.15);\n",
              "      filter: drop-shadow(0px 1px 2px rgba(0, 0, 0, 0.3));\n",
              "      fill: #FFFFFF;\n",
              "    }\n",
              "  </style>\n",
              "\n",
              "      <script>\n",
              "        const buttonEl =\n",
              "          document.querySelector('#df-d638e481-ad11-4b0e-8646-0eda63b1fef7 button.colab-df-convert');\n",
              "        buttonEl.style.display =\n",
              "          google.colab.kernel.accessAllowed ? 'block' : 'none';\n",
              "\n",
              "        async function convertToInteractive(key) {\n",
              "          const element = document.querySelector('#df-d638e481-ad11-4b0e-8646-0eda63b1fef7');\n",
              "          const dataTable =\n",
              "            await google.colab.kernel.invokeFunction('convertToInteractive',\n",
              "                                                     [key], {});\n",
              "          if (!dataTable) return;\n",
              "\n",
              "          const docLinkHtml = 'Like what you see? Visit the ' +\n",
              "            '<a target=\"_blank\" href=https://colab.research.google.com/notebooks/data_table.ipynb>data table notebook</a>'\n",
              "            + ' to learn more about interactive tables.';\n",
              "          element.innerHTML = '';\n",
              "          dataTable['output_type'] = 'display_data';\n",
              "          await google.colab.output.renderOutput(dataTable, element);\n",
              "          const docLink = document.createElement('div');\n",
              "          docLink.innerHTML = docLinkHtml;\n",
              "          element.appendChild(docLink);\n",
              "        }\n",
              "      </script>\n",
              "    </div>\n",
              "  </div>\n",
              "  "
            ]
          },
          "metadata": {},
          "execution_count": 9
        }
      ]
    },
    {
      "cell_type": "markdown",
      "source": [
        "Ideally, we will want our training data to be spread across all the sources. Hence, we will merge all the sources together."
      ],
      "metadata": {
        "id": "ltaa01Ec3Dxw"
      },
      "id": "ltaa01Ec3Dxw"
    },
    {
      "cell_type": "code",
      "source": [
        "data = pd.concat(data_by_source, ignore_index=True)\n",
        "data.to_csv('full_data.csv')"
      ],
      "metadata": {
        "id": "n73iW9px2lZ4"
      },
      "id": "n73iW9px2lZ4",
      "execution_count": 30,
      "outputs": []
    },
    {
      "cell_type": "markdown",
      "source": [
        "We have in total 9251703 parallel sentences for English to Bengali."
      ],
      "metadata": {
        "id": "hQRA8vXF7En_"
      },
      "id": "hQRA8vXF7En_"
    },
    {
      "cell_type": "code",
      "source": [
        "data"
      ],
      "metadata": {
        "colab": {
          "base_uri": "https://localhost:8080/",
          "height": 424
        },
        "id": "yvczhxXM5cOo",
        "outputId": "dc65cec6-c2e9-4b13-d622-755be64b3204"
      },
      "id": "yvczhxXM5cOo",
      "execution_count": 11,
      "outputs": [
        {
          "output_type": "execute_result",
          "data": {
            "text/plain": [
              "                                                       src  \\\n",
              "0                               Okay, I'll be right there.   \n",
              "1                                      Give one's lessons.   \n",
              "2        Much to the Witnesses' surprise, even the pros...   \n",
              "3                                    I am at your service.   \n",
              "4        Via Facebook Messenger, Global Voices talked w...   \n",
              "...                                                    ...   \n",
              "9251698  A panel of auditors for auditing listed compan...   \n",
              "9251699  On this consideration, and on certain conditio...   \n",
              "9251700  Under these rules, fixed price method for IPOs...   \n",
              "9251701  Steps are being taken to introduce rural ratio...   \n",
              "9251702  I propose to rationalize rates and to introduc...   \n",
              "\n",
              "                                                       tgt  \n",
              "0                                           ওকে, এখনই আসছি  \n",
              "1                                                পড়া দেওয়া  \n",
              "2        সাক্ষীরা অত্যন্ত বিস্মিত হন, এমনকি সরকারি উকিল...  \n",
              "3                            আমি তোমাকে সাহায্য করার জন্যই  \n",
              "4        গ্লোবাল ভয়েসস বাংলা'র পক্ষ থেকে আমরা যোগাযোগ ক...  \n",
              "...                                                    ...  \n",
              "9251698  নিরীক্ষা কার্যক্রমে শৃঙ্খলা আনয়নে তালিকাভুক্ত...  \n",
              "9251699  সে কারণে কতিপয় শর্ত সাপেক্ষে এসব যন্ত্রাংশের ...  \n",
              "9251700  এতে অভিহিত মূল্যে আইপিও’র জন্য ফিক্সড প্রাইস প...  \n",
              "9251701  টিআর ও ভিজিএফ এর পরিবর্তে পল্লী রেশনিং কর্মসূচ...  \n",
              "9251702  উৎস কর: উৎস করে কয়েকটি ক্ষেত্রে করহার যৌক্তিক...  \n",
              "\n",
              "[9251703 rows x 2 columns]"
            ],
            "text/html": [
              "\n",
              "  <div id=\"df-ff8b759c-994a-4611-a58e-8783f87566e1\">\n",
              "    <div class=\"colab-df-container\">\n",
              "      <div>\n",
              "<style scoped>\n",
              "    .dataframe tbody tr th:only-of-type {\n",
              "        vertical-align: middle;\n",
              "    }\n",
              "\n",
              "    .dataframe tbody tr th {\n",
              "        vertical-align: top;\n",
              "    }\n",
              "\n",
              "    .dataframe thead th {\n",
              "        text-align: right;\n",
              "    }\n",
              "</style>\n",
              "<table border=\"1\" class=\"dataframe\">\n",
              "  <thead>\n",
              "    <tr style=\"text-align: right;\">\n",
              "      <th></th>\n",
              "      <th>src</th>\n",
              "      <th>tgt</th>\n",
              "    </tr>\n",
              "  </thead>\n",
              "  <tbody>\n",
              "    <tr>\n",
              "      <th>0</th>\n",
              "      <td>Okay, I'll be right there.</td>\n",
              "      <td>ওকে, এখনই আসছি</td>\n",
              "    </tr>\n",
              "    <tr>\n",
              "      <th>1</th>\n",
              "      <td>Give one's lessons.</td>\n",
              "      <td>পড়া দেওয়া</td>\n",
              "    </tr>\n",
              "    <tr>\n",
              "      <th>2</th>\n",
              "      <td>Much to the Witnesses' surprise, even the pros...</td>\n",
              "      <td>সাক্ষীরা অত্যন্ত বিস্মিত হন, এমনকি সরকারি উকিল...</td>\n",
              "    </tr>\n",
              "    <tr>\n",
              "      <th>3</th>\n",
              "      <td>I am at your service.</td>\n",
              "      <td>আমি তোমাকে সাহায্য করার জন্যই</td>\n",
              "    </tr>\n",
              "    <tr>\n",
              "      <th>4</th>\n",
              "      <td>Via Facebook Messenger, Global Voices talked w...</td>\n",
              "      <td>গ্লোবাল ভয়েসস বাংলা'র পক্ষ থেকে আমরা যোগাযোগ ক...</td>\n",
              "    </tr>\n",
              "    <tr>\n",
              "      <th>...</th>\n",
              "      <td>...</td>\n",
              "      <td>...</td>\n",
              "    </tr>\n",
              "    <tr>\n",
              "      <th>9251698</th>\n",
              "      <td>A panel of auditors for auditing listed compan...</td>\n",
              "      <td>নিরীক্ষা কার্যক্রমে শৃঙ্খলা আনয়নে তালিকাভুক্ত...</td>\n",
              "    </tr>\n",
              "    <tr>\n",
              "      <th>9251699</th>\n",
              "      <td>On this consideration, and on certain conditio...</td>\n",
              "      <td>সে কারণে কতিপয় শর্ত সাপেক্ষে এসব যন্ত্রাংশের ...</td>\n",
              "    </tr>\n",
              "    <tr>\n",
              "      <th>9251700</th>\n",
              "      <td>Under these rules, fixed price method for IPOs...</td>\n",
              "      <td>এতে অভিহিত মূল্যে আইপিও’র জন্য ফিক্সড প্রাইস প...</td>\n",
              "    </tr>\n",
              "    <tr>\n",
              "      <th>9251701</th>\n",
              "      <td>Steps are being taken to introduce rural ratio...</td>\n",
              "      <td>টিআর ও ভিজিএফ এর পরিবর্তে পল্লী রেশনিং কর্মসূচ...</td>\n",
              "    </tr>\n",
              "    <tr>\n",
              "      <th>9251702</th>\n",
              "      <td>I propose to rationalize rates and to introduc...</td>\n",
              "      <td>উৎস কর: উৎস করে কয়েকটি ক্ষেত্রে করহার যৌক্তিক...</td>\n",
              "    </tr>\n",
              "  </tbody>\n",
              "</table>\n",
              "<p>9251703 rows × 2 columns</p>\n",
              "</div>\n",
              "      <button class=\"colab-df-convert\" onclick=\"convertToInteractive('df-ff8b759c-994a-4611-a58e-8783f87566e1')\"\n",
              "              title=\"Convert this dataframe to an interactive table.\"\n",
              "              style=\"display:none;\">\n",
              "        \n",
              "  <svg xmlns=\"http://www.w3.org/2000/svg\" height=\"24px\"viewBox=\"0 0 24 24\"\n",
              "       width=\"24px\">\n",
              "    <path d=\"M0 0h24v24H0V0z\" fill=\"none\"/>\n",
              "    <path d=\"M18.56 5.44l.94 2.06.94-2.06 2.06-.94-2.06-.94-.94-2.06-.94 2.06-2.06.94zm-11 1L8.5 8.5l.94-2.06 2.06-.94-2.06-.94L8.5 2.5l-.94 2.06-2.06.94zm10 10l.94 2.06.94-2.06 2.06-.94-2.06-.94-.94-2.06-.94 2.06-2.06.94z\"/><path d=\"M17.41 7.96l-1.37-1.37c-.4-.4-.92-.59-1.43-.59-.52 0-1.04.2-1.43.59L10.3 9.45l-7.72 7.72c-.78.78-.78 2.05 0 2.83L4 21.41c.39.39.9.59 1.41.59.51 0 1.02-.2 1.41-.59l7.78-7.78 2.81-2.81c.8-.78.8-2.07 0-2.86zM5.41 20L4 18.59l7.72-7.72 1.47 1.35L5.41 20z\"/>\n",
              "  </svg>\n",
              "      </button>\n",
              "      \n",
              "  <style>\n",
              "    .colab-df-container {\n",
              "      display:flex;\n",
              "      flex-wrap:wrap;\n",
              "      gap: 12px;\n",
              "    }\n",
              "\n",
              "    .colab-df-convert {\n",
              "      background-color: #E8F0FE;\n",
              "      border: none;\n",
              "      border-radius: 50%;\n",
              "      cursor: pointer;\n",
              "      display: none;\n",
              "      fill: #1967D2;\n",
              "      height: 32px;\n",
              "      padding: 0 0 0 0;\n",
              "      width: 32px;\n",
              "    }\n",
              "\n",
              "    .colab-df-convert:hover {\n",
              "      background-color: #E2EBFA;\n",
              "      box-shadow: 0px 1px 2px rgba(60, 64, 67, 0.3), 0px 1px 3px 1px rgba(60, 64, 67, 0.15);\n",
              "      fill: #174EA6;\n",
              "    }\n",
              "\n",
              "    [theme=dark] .colab-df-convert {\n",
              "      background-color: #3B4455;\n",
              "      fill: #D2E3FC;\n",
              "    }\n",
              "\n",
              "    [theme=dark] .colab-df-convert:hover {\n",
              "      background-color: #434B5C;\n",
              "      box-shadow: 0px 1px 3px 1px rgba(0, 0, 0, 0.15);\n",
              "      filter: drop-shadow(0px 1px 2px rgba(0, 0, 0, 0.3));\n",
              "      fill: #FFFFFF;\n",
              "    }\n",
              "  </style>\n",
              "\n",
              "      <script>\n",
              "        const buttonEl =\n",
              "          document.querySelector('#df-ff8b759c-994a-4611-a58e-8783f87566e1 button.colab-df-convert');\n",
              "        buttonEl.style.display =\n",
              "          google.colab.kernel.accessAllowed ? 'block' : 'none';\n",
              "\n",
              "        async function convertToInteractive(key) {\n",
              "          const element = document.querySelector('#df-ff8b759c-994a-4611-a58e-8783f87566e1');\n",
              "          const dataTable =\n",
              "            await google.colab.kernel.invokeFunction('convertToInteractive',\n",
              "                                                     [key], {});\n",
              "          if (!dataTable) return;\n",
              "\n",
              "          const docLinkHtml = 'Like what you see? Visit the ' +\n",
              "            '<a target=\"_blank\" href=https://colab.research.google.com/notebooks/data_table.ipynb>data table notebook</a>'\n",
              "            + ' to learn more about interactive tables.';\n",
              "          element.innerHTML = '';\n",
              "          dataTable['output_type'] = 'display_data';\n",
              "          await google.colab.output.renderOutput(dataTable, element);\n",
              "          const docLink = document.createElement('div');\n",
              "          docLink.innerHTML = docLinkHtml;\n",
              "          element.appendChild(docLink);\n",
              "        }\n",
              "      </script>\n",
              "    </div>\n",
              "  </div>\n",
              "  "
            ]
          },
          "metadata": {},
          "execution_count": 11
        }
      ]
    },
    {
      "cell_type": "markdown",
      "source": [
        "We now shuffle the data to form our training data(`train_data`)(which is 10% of the entire dataset). We will take some part of this training data(0.2%)(on which the model won't be trained) to form the training-developement(`train_dev_data`) set. The developement set and the test set will be presented later.\n",
        "\n",
        "Reason: The entire dataset is massive and would take large computing resource to train a model. Hence, we took a subset of the dataset for ease in training."
      ],
      "metadata": {
        "id": "UcvacKqGAhnu"
      },
      "id": "UcvacKqGAhnu"
    },
    {
      "cell_type": "code",
      "source": [
        "train_data, train_dev_data  = train_test_split(data, train_size=0.1, test_size=0.002, random_state=43)"
      ],
      "metadata": {
        "id": "6uG46fE77rBX"
      },
      "id": "6uG46fE77rBX",
      "execution_count": 13,
      "outputs": []
    },
    {
      "cell_type": "code",
      "source": [
        "train_data"
      ],
      "metadata": {
        "colab": {
          "base_uri": "https://localhost:8080/",
          "height": 424
        },
        "id": "8UVLrqlmA78n",
        "outputId": "87a61c97-ef31-49ca-f6c6-cb23f88ba2fb"
      },
      "id": "8UVLrqlmA78n",
      "execution_count": 14,
      "outputs": [
        {
          "output_type": "execute_result",
          "data": {
            "text/plain": [
              "                                                       src  \\\n",
              "5785531                                     Any new songs?   \n",
              "1859281  Displays showed The Watchtower in the language...   \n",
              "6773766  As the situation turned tense, the Police rush...   \n",
              "7311860                                  Many were crying.   \n",
              "1697213  The brain cannot work properly in a diseased b...   \n",
              "...                                                    ...   \n",
              "5392787                                One boy & one girl.   \n",
              "6804036                                           Her last   \n",
              "128897   It also expresses its need for transparency, f...   \n",
              "8530341  Khanpur Union (Bengali: ) is a Union Parishad ...   \n",
              "4917874  A country-made pistol and a cartridge were rec...   \n",
              "\n",
              "                                                       tgt  \n",
              "5785531                                নতুন কোনও অ্যালবাম?  \n",
              "1859281  প্রদর্শনগুলো আমেরিকা, ইউরোপ, এশিয়া ও আফ্রিকার ...  \n",
              "6773766  ঘটনাস্থলে পুলিশ যতক্ষণে পৌঁছয় ততক্ষণে পরিস্থিত...  \n",
              "7311860                       তখন অনেকে কান্নায় ভেঙে পড়েন।  \n",
              "1697213  রোগাক্রান্ত শরীরে মস্তিস্ক উপযুক্তভাবে কাজ করত...  \n",
              "...                                                    ...  \n",
              "5392787                             মিনার এক ছেলে এক মেয়ে।  \n",
              "6804036                                       তার শেষ কথা—  \n",
              "128897   এছাড়াও এটি এর স্বচ্ছতা, স্বাধীনতা এবং একটি \"সঠ...  \n",
              "8530341  কাঞ্চনপুর ইউনিয়ন হরিরামপুর উপজেলার আওতাধীন এক...  \n",
              "4917874  ধৃতের থেকে উদ্ধার হয়েছে একটি দেশি বন্দুক এবং এ...  \n",
              "\n",
              "[925170 rows x 2 columns]"
            ],
            "text/html": [
              "\n",
              "  <div id=\"df-a014e313-ac6f-449f-a669-1c84f5839012\">\n",
              "    <div class=\"colab-df-container\">\n",
              "      <div>\n",
              "<style scoped>\n",
              "    .dataframe tbody tr th:only-of-type {\n",
              "        vertical-align: middle;\n",
              "    }\n",
              "\n",
              "    .dataframe tbody tr th {\n",
              "        vertical-align: top;\n",
              "    }\n",
              "\n",
              "    .dataframe thead th {\n",
              "        text-align: right;\n",
              "    }\n",
              "</style>\n",
              "<table border=\"1\" class=\"dataframe\">\n",
              "  <thead>\n",
              "    <tr style=\"text-align: right;\">\n",
              "      <th></th>\n",
              "      <th>src</th>\n",
              "      <th>tgt</th>\n",
              "    </tr>\n",
              "  </thead>\n",
              "  <tbody>\n",
              "    <tr>\n",
              "      <th>5785531</th>\n",
              "      <td>Any new songs?</td>\n",
              "      <td>নতুন কোনও অ্যালবাম?</td>\n",
              "    </tr>\n",
              "    <tr>\n",
              "      <th>1859281</th>\n",
              "      <td>Displays showed The Watchtower in the language...</td>\n",
              "      <td>প্রদর্শনগুলো আমেরিকা, ইউরোপ, এশিয়া ও আফ্রিকার ...</td>\n",
              "    </tr>\n",
              "    <tr>\n",
              "      <th>6773766</th>\n",
              "      <td>As the situation turned tense, the Police rush...</td>\n",
              "      <td>ঘটনাস্থলে পুলিশ যতক্ষণে পৌঁছয় ততক্ষণে পরিস্থিত...</td>\n",
              "    </tr>\n",
              "    <tr>\n",
              "      <th>7311860</th>\n",
              "      <td>Many were crying.</td>\n",
              "      <td>তখন অনেকে কান্নায় ভেঙে পড়েন।</td>\n",
              "    </tr>\n",
              "    <tr>\n",
              "      <th>1697213</th>\n",
              "      <td>The brain cannot work properly in a diseased b...</td>\n",
              "      <td>রোগাক্রান্ত শরীরে মস্তিস্ক উপযুক্তভাবে কাজ করত...</td>\n",
              "    </tr>\n",
              "    <tr>\n",
              "      <th>...</th>\n",
              "      <td>...</td>\n",
              "      <td>...</td>\n",
              "    </tr>\n",
              "    <tr>\n",
              "      <th>5392787</th>\n",
              "      <td>One boy &amp; one girl.</td>\n",
              "      <td>মিনার এক ছেলে এক মেয়ে।</td>\n",
              "    </tr>\n",
              "    <tr>\n",
              "      <th>6804036</th>\n",
              "      <td>Her last</td>\n",
              "      <td>তার শেষ কথা—</td>\n",
              "    </tr>\n",
              "    <tr>\n",
              "      <th>128897</th>\n",
              "      <td>It also expresses its need for transparency, f...</td>\n",
              "      <td>এছাড়াও এটি এর স্বচ্ছতা, স্বাধীনতা এবং একটি \"সঠ...</td>\n",
              "    </tr>\n",
              "    <tr>\n",
              "      <th>8530341</th>\n",
              "      <td>Khanpur Union (Bengali: ) is a Union Parishad ...</td>\n",
              "      <td>কাঞ্চনপুর ইউনিয়ন হরিরামপুর উপজেলার আওতাধীন এক...</td>\n",
              "    </tr>\n",
              "    <tr>\n",
              "      <th>4917874</th>\n",
              "      <td>A country-made pistol and a cartridge were rec...</td>\n",
              "      <td>ধৃতের থেকে উদ্ধার হয়েছে একটি দেশি বন্দুক এবং এ...</td>\n",
              "    </tr>\n",
              "  </tbody>\n",
              "</table>\n",
              "<p>925170 rows × 2 columns</p>\n",
              "</div>\n",
              "      <button class=\"colab-df-convert\" onclick=\"convertToInteractive('df-a014e313-ac6f-449f-a669-1c84f5839012')\"\n",
              "              title=\"Convert this dataframe to an interactive table.\"\n",
              "              style=\"display:none;\">\n",
              "        \n",
              "  <svg xmlns=\"http://www.w3.org/2000/svg\" height=\"24px\"viewBox=\"0 0 24 24\"\n",
              "       width=\"24px\">\n",
              "    <path d=\"M0 0h24v24H0V0z\" fill=\"none\"/>\n",
              "    <path d=\"M18.56 5.44l.94 2.06.94-2.06 2.06-.94-2.06-.94-.94-2.06-.94 2.06-2.06.94zm-11 1L8.5 8.5l.94-2.06 2.06-.94-2.06-.94L8.5 2.5l-.94 2.06-2.06.94zm10 10l.94 2.06.94-2.06 2.06-.94-2.06-.94-.94-2.06-.94 2.06-2.06.94z\"/><path d=\"M17.41 7.96l-1.37-1.37c-.4-.4-.92-.59-1.43-.59-.52 0-1.04.2-1.43.59L10.3 9.45l-7.72 7.72c-.78.78-.78 2.05 0 2.83L4 21.41c.39.39.9.59 1.41.59.51 0 1.02-.2 1.41-.59l7.78-7.78 2.81-2.81c.8-.78.8-2.07 0-2.86zM5.41 20L4 18.59l7.72-7.72 1.47 1.35L5.41 20z\"/>\n",
              "  </svg>\n",
              "      </button>\n",
              "      \n",
              "  <style>\n",
              "    .colab-df-container {\n",
              "      display:flex;\n",
              "      flex-wrap:wrap;\n",
              "      gap: 12px;\n",
              "    }\n",
              "\n",
              "    .colab-df-convert {\n",
              "      background-color: #E8F0FE;\n",
              "      border: none;\n",
              "      border-radius: 50%;\n",
              "      cursor: pointer;\n",
              "      display: none;\n",
              "      fill: #1967D2;\n",
              "      height: 32px;\n",
              "      padding: 0 0 0 0;\n",
              "      width: 32px;\n",
              "    }\n",
              "\n",
              "    .colab-df-convert:hover {\n",
              "      background-color: #E2EBFA;\n",
              "      box-shadow: 0px 1px 2px rgba(60, 64, 67, 0.3), 0px 1px 3px 1px rgba(60, 64, 67, 0.15);\n",
              "      fill: #174EA6;\n",
              "    }\n",
              "\n",
              "    [theme=dark] .colab-df-convert {\n",
              "      background-color: #3B4455;\n",
              "      fill: #D2E3FC;\n",
              "    }\n",
              "\n",
              "    [theme=dark] .colab-df-convert:hover {\n",
              "      background-color: #434B5C;\n",
              "      box-shadow: 0px 1px 3px 1px rgba(0, 0, 0, 0.15);\n",
              "      filter: drop-shadow(0px 1px 2px rgba(0, 0, 0, 0.3));\n",
              "      fill: #FFFFFF;\n",
              "    }\n",
              "  </style>\n",
              "\n",
              "      <script>\n",
              "        const buttonEl =\n",
              "          document.querySelector('#df-a014e313-ac6f-449f-a669-1c84f5839012 button.colab-df-convert');\n",
              "        buttonEl.style.display =\n",
              "          google.colab.kernel.accessAllowed ? 'block' : 'none';\n",
              "\n",
              "        async function convertToInteractive(key) {\n",
              "          const element = document.querySelector('#df-a014e313-ac6f-449f-a669-1c84f5839012');\n",
              "          const dataTable =\n",
              "            await google.colab.kernel.invokeFunction('convertToInteractive',\n",
              "                                                     [key], {});\n",
              "          if (!dataTable) return;\n",
              "\n",
              "          const docLinkHtml = 'Like what you see? Visit the ' +\n",
              "            '<a target=\"_blank\" href=https://colab.research.google.com/notebooks/data_table.ipynb>data table notebook</a>'\n",
              "            + ' to learn more about interactive tables.';\n",
              "          element.innerHTML = '';\n",
              "          dataTable['output_type'] = 'display_data';\n",
              "          await google.colab.output.renderOutput(dataTable, element);\n",
              "          const docLink = document.createElement('div');\n",
              "          docLink.innerHTML = docLinkHtml;\n",
              "          element.appendChild(docLink);\n",
              "        }\n",
              "      </script>\n",
              "    </div>\n",
              "  </div>\n",
              "  "
            ]
          },
          "metadata": {},
          "execution_count": 14
        }
      ]
    },
    {
      "cell_type": "code",
      "source": [
        "train_dev_data"
      ],
      "metadata": {
        "colab": {
          "base_uri": "https://localhost:8080/",
          "height": 424
        },
        "id": "j4TEJBgAAStN",
        "outputId": "886b4b53-3569-4a03-c69c-0e02f02d9336"
      },
      "id": "j4TEJBgAAStN",
      "execution_count": 40,
      "outputs": [
        {
          "output_type": "execute_result",
          "data": {
            "text/plain": [
              "                                                       src  \\\n",
              "2163022  We beg our Protestant and Jewish friends to pu...   \n",
              "8637212  Sa'd advised Muhammad: \"Don't be hard on him. ...   \n",
              "727073                        Photo by 'Save Gaza Project'   \n",
              "8824941  So, therefore, we need to test batteries under...   \n",
              "6217862    This party is also contesting in the elections.   \n",
              "...                                                    ...   \n",
              "1709971  For example, it is dark as you approach your h...   \n",
              "1854006  Sometimes, though, hikers in mountainous terra...   \n",
              "7912458                                           Lets run   \n",
              "5027564  Real pressure is going into work each day whil...   \n",
              "242719      But, I hope good sense will prevail upon them.   \n",
              "\n",
              "                                                       tgt  \n",
              "2163022  কোন কোন ক্ষেত্রে কর্তৃপক্ষ এবং ধর্মীয় নেতারা ...  \n",
              "8637212  সা'দ মুহাম্মাদকে বলেন: \"তার প্রতি কঠোর হবেন না...  \n",
              "727073                         ছবি \"সেভ গাজা প্রজেক্টের\"।'  \n",
              "8824941  অতএব, আমআদের কিছুটা মান অবস্থাগুলির অধীনে ব্যা...  \n",
              "6217862     নির্বাচনে এই দলের মধ্যেই প্রতিদ্বন্দ্বিতা হবে।  \n",
              "...                                                    ...  \n",
              "1709971  উদাহরণস্বরূপ, কল্পনা করুন আপনি আপনার বাড়ির দিক...  \n",
              "1854006  কিন্তু কখনও কখনও, পাহাড়ি এলাকার লম্বা, দুরারোহ...  \n",
              "7912458                                      ছুটেবাড়ি আসি।  \n",
              "5027564  সত্যিকারের চাপ হলো, নিজের নিরাপত্তাকে ঝুঁকিতে...  \n",
              "242719   কিন্তু আমি আশা করি গত ওয়ান-ইলেভেন সরকারের ব্যর...  \n",
              "\n",
              "[18504 rows x 2 columns]"
            ],
            "text/html": [
              "\n",
              "  <div id=\"df-2c08311e-ce7a-4afb-a502-c51003a1907b\">\n",
              "    <div class=\"colab-df-container\">\n",
              "      <div>\n",
              "<style scoped>\n",
              "    .dataframe tbody tr th:only-of-type {\n",
              "        vertical-align: middle;\n",
              "    }\n",
              "\n",
              "    .dataframe tbody tr th {\n",
              "        vertical-align: top;\n",
              "    }\n",
              "\n",
              "    .dataframe thead th {\n",
              "        text-align: right;\n",
              "    }\n",
              "</style>\n",
              "<table border=\"1\" class=\"dataframe\">\n",
              "  <thead>\n",
              "    <tr style=\"text-align: right;\">\n",
              "      <th></th>\n",
              "      <th>src</th>\n",
              "      <th>tgt</th>\n",
              "    </tr>\n",
              "  </thead>\n",
              "  <tbody>\n",
              "    <tr>\n",
              "      <th>2163022</th>\n",
              "      <td>We beg our Protestant and Jewish friends to pu...</td>\n",
              "      <td>কোন কোন ক্ষেত্রে কর্তৃপক্ষ এবং ধর্মীয় নেতারা ...</td>\n",
              "    </tr>\n",
              "    <tr>\n",
              "      <th>8637212</th>\n",
              "      <td>Sa'd advised Muhammad: \"Don't be hard on him. ...</td>\n",
              "      <td>সা'দ মুহাম্মাদকে বলেন: \"তার প্রতি কঠোর হবেন না...</td>\n",
              "    </tr>\n",
              "    <tr>\n",
              "      <th>727073</th>\n",
              "      <td>Photo by 'Save Gaza Project'</td>\n",
              "      <td>ছবি \"সেভ গাজা প্রজেক্টের\"।'</td>\n",
              "    </tr>\n",
              "    <tr>\n",
              "      <th>8824941</th>\n",
              "      <td>So, therefore, we need to test batteries under...</td>\n",
              "      <td>অতএব, আমআদের কিছুটা মান অবস্থাগুলির অধীনে ব্যা...</td>\n",
              "    </tr>\n",
              "    <tr>\n",
              "      <th>6217862</th>\n",
              "      <td>This party is also contesting in the elections.</td>\n",
              "      <td>নির্বাচনে এই দলের মধ্যেই প্রতিদ্বন্দ্বিতা হবে।</td>\n",
              "    </tr>\n",
              "    <tr>\n",
              "      <th>...</th>\n",
              "      <td>...</td>\n",
              "      <td>...</td>\n",
              "    </tr>\n",
              "    <tr>\n",
              "      <th>1709971</th>\n",
              "      <td>For example, it is dark as you approach your h...</td>\n",
              "      <td>উদাহরণস্বরূপ, কল্পনা করুন আপনি আপনার বাড়ির দিক...</td>\n",
              "    </tr>\n",
              "    <tr>\n",
              "      <th>1854006</th>\n",
              "      <td>Sometimes, though, hikers in mountainous terra...</td>\n",
              "      <td>কিন্তু কখনও কখনও, পাহাড়ি এলাকার লম্বা, দুরারোহ...</td>\n",
              "    </tr>\n",
              "    <tr>\n",
              "      <th>7912458</th>\n",
              "      <td>Lets run</td>\n",
              "      <td>ছুটেবাড়ি আসি।</td>\n",
              "    </tr>\n",
              "    <tr>\n",
              "      <th>5027564</th>\n",
              "      <td>Real pressure is going into work each day whil...</td>\n",
              "      <td>সত্যিকারের চাপ হলো, নিজের নিরাপত্তাকে ঝুঁকিতে...</td>\n",
              "    </tr>\n",
              "    <tr>\n",
              "      <th>242719</th>\n",
              "      <td>But, I hope good sense will prevail upon them.</td>\n",
              "      <td>কিন্তু আমি আশা করি গত ওয়ান-ইলেভেন সরকারের ব্যর...</td>\n",
              "    </tr>\n",
              "  </tbody>\n",
              "</table>\n",
              "<p>18504 rows × 2 columns</p>\n",
              "</div>\n",
              "      <button class=\"colab-df-convert\" onclick=\"convertToInteractive('df-2c08311e-ce7a-4afb-a502-c51003a1907b')\"\n",
              "              title=\"Convert this dataframe to an interactive table.\"\n",
              "              style=\"display:none;\">\n",
              "        \n",
              "  <svg xmlns=\"http://www.w3.org/2000/svg\" height=\"24px\"viewBox=\"0 0 24 24\"\n",
              "       width=\"24px\">\n",
              "    <path d=\"M0 0h24v24H0V0z\" fill=\"none\"/>\n",
              "    <path d=\"M18.56 5.44l.94 2.06.94-2.06 2.06-.94-2.06-.94-.94-2.06-.94 2.06-2.06.94zm-11 1L8.5 8.5l.94-2.06 2.06-.94-2.06-.94L8.5 2.5l-.94 2.06-2.06.94zm10 10l.94 2.06.94-2.06 2.06-.94-2.06-.94-.94-2.06-.94 2.06-2.06.94z\"/><path d=\"M17.41 7.96l-1.37-1.37c-.4-.4-.92-.59-1.43-.59-.52 0-1.04.2-1.43.59L10.3 9.45l-7.72 7.72c-.78.78-.78 2.05 0 2.83L4 21.41c.39.39.9.59 1.41.59.51 0 1.02-.2 1.41-.59l7.78-7.78 2.81-2.81c.8-.78.8-2.07 0-2.86zM5.41 20L4 18.59l7.72-7.72 1.47 1.35L5.41 20z\"/>\n",
              "  </svg>\n",
              "      </button>\n",
              "      \n",
              "  <style>\n",
              "    .colab-df-container {\n",
              "      display:flex;\n",
              "      flex-wrap:wrap;\n",
              "      gap: 12px;\n",
              "    }\n",
              "\n",
              "    .colab-df-convert {\n",
              "      background-color: #E8F0FE;\n",
              "      border: none;\n",
              "      border-radius: 50%;\n",
              "      cursor: pointer;\n",
              "      display: none;\n",
              "      fill: #1967D2;\n",
              "      height: 32px;\n",
              "      padding: 0 0 0 0;\n",
              "      width: 32px;\n",
              "    }\n",
              "\n",
              "    .colab-df-convert:hover {\n",
              "      background-color: #E2EBFA;\n",
              "      box-shadow: 0px 1px 2px rgba(60, 64, 67, 0.3), 0px 1px 3px 1px rgba(60, 64, 67, 0.15);\n",
              "      fill: #174EA6;\n",
              "    }\n",
              "\n",
              "    [theme=dark] .colab-df-convert {\n",
              "      background-color: #3B4455;\n",
              "      fill: #D2E3FC;\n",
              "    }\n",
              "\n",
              "    [theme=dark] .colab-df-convert:hover {\n",
              "      background-color: #434B5C;\n",
              "      box-shadow: 0px 1px 3px 1px rgba(0, 0, 0, 0.15);\n",
              "      filter: drop-shadow(0px 1px 2px rgba(0, 0, 0, 0.3));\n",
              "      fill: #FFFFFF;\n",
              "    }\n",
              "  </style>\n",
              "\n",
              "      <script>\n",
              "        const buttonEl =\n",
              "          document.querySelector('#df-2c08311e-ce7a-4afb-a502-c51003a1907b button.colab-df-convert');\n",
              "        buttonEl.style.display =\n",
              "          google.colab.kernel.accessAllowed ? 'block' : 'none';\n",
              "\n",
              "        async function convertToInteractive(key) {\n",
              "          const element = document.querySelector('#df-2c08311e-ce7a-4afb-a502-c51003a1907b');\n",
              "          const dataTable =\n",
              "            await google.colab.kernel.invokeFunction('convertToInteractive',\n",
              "                                                     [key], {});\n",
              "          if (!dataTable) return;\n",
              "\n",
              "          const docLinkHtml = 'Like what you see? Visit the ' +\n",
              "            '<a target=\"_blank\" href=https://colab.research.google.com/notebooks/data_table.ipynb>data table notebook</a>'\n",
              "            + ' to learn more about interactive tables.';\n",
              "          element.innerHTML = '';\n",
              "          dataTable['output_type'] = 'display_data';\n",
              "          await google.colab.output.renderOutput(dataTable, element);\n",
              "          const docLink = document.createElement('div');\n",
              "          docLink.innerHTML = docLinkHtml;\n",
              "          element.appendChild(docLink);\n",
              "        }\n",
              "      </script>\n",
              "    </div>\n",
              "  </div>\n",
              "  "
            ]
          },
          "metadata": {},
          "execution_count": 40
        }
      ]
    },
    {
      "cell_type": "markdown",
      "source": [
        "Now, one thing we need to decide on is the number of words per sentence that we should take. We look below look at our training data's source sentences to see what kind of input sentences we encounter."
      ],
      "metadata": {
        "id": "sIIvKzmeM_qc"
      },
      "id": "sIIvKzmeM_qc"
    },
    {
      "cell_type": "code",
      "source": [
        "sentences_filtered_word_num = {}\n",
        "for sent in train_data['src']:\n",
        "    sent_num_words = len(sent.split())\n",
        "    for num_words in range(10, 151, 10):\n",
        "        if sent_num_words <= num_words:\n",
        "            sentences_filtered_word_num[num_words] = sentences_filtered_word_num.get(num_words, 0) + 1"
      ],
      "metadata": {
        "id": "6felsJiiYpEX"
      },
      "id": "6felsJiiYpEX",
      "execution_count": 16,
      "outputs": []
    },
    {
      "cell_type": "code",
      "source": [
        "for num_words, num_sentences in sentences_filtered_word_num.items():\n",
        "    print(f\"The number of english sentences with <= {num_words} words are: {num_sentences}\")"
      ],
      "metadata": {
        "colab": {
          "base_uri": "https://localhost:8080/"
        },
        "id": "QbOtXqInBEVY",
        "outputId": "531fb3de-49ef-49d6-b6d4-01fd4348466c"
      },
      "id": "QbOtXqInBEVY",
      "execution_count": 17,
      "outputs": [
        {
          "output_type": "stream",
          "name": "stdout",
          "text": [
            "The number of english sentences with <= 10 words are: 580175\n",
            "The number of english sentences with <= 20 words are: 789604\n",
            "The number of english sentences with <= 30 words are: 876862\n",
            "The number of english sentences with <= 40 words are: 907848\n",
            "The number of english sentences with <= 50 words are: 917824\n",
            "The number of english sentences with <= 60 words are: 921431\n",
            "The number of english sentences with <= 70 words are: 922963\n",
            "The number of english sentences with <= 80 words are: 923674\n",
            "The number of english sentences with <= 90 words are: 924128\n",
            "The number of english sentences with <= 100 words are: 924403\n",
            "The number of english sentences with <= 110 words are: 924603\n",
            "The number of english sentences with <= 120 words are: 924752\n",
            "The number of english sentences with <= 130 words are: 924861\n",
            "The number of english sentences with <= 140 words are: 924938\n",
            "The number of english sentences with <= 150 words are: 924996\n"
          ]
        }
      ]
    },
    {
      "cell_type": "markdown",
      "source": [
        "Looking at the above figures, we would choose maximum length of 60 words to be a good value, as there are not that many sentences of length longer than 60."
      ],
      "metadata": {
        "id": "DGO00XMQsdby"
      },
      "id": "DGO00XMQsdby"
    },
    {
      "cell_type": "markdown",
      "source": [
        "Now, we look at the number of unique words in both the source and target sentences."
      ],
      "metadata": {
        "id": "C8a5KqKMJIkX"
      },
      "id": "C8a5KqKMJIkX"
    },
    {
      "cell_type": "code",
      "source": [
        "vocab_en = set([word for sent in train_data['src'].values for word in sent.split()])"
      ],
      "metadata": {
        "id": "LZAt-XUrMvgd"
      },
      "id": "LZAt-XUrMvgd",
      "execution_count": 18,
      "outputs": []
    },
    {
      "cell_type": "code",
      "source": [
        "vocab_ben = set([word for sent in train_data['tgt'] for word in sent.split()])"
      ],
      "metadata": {
        "id": "De5jLFSLFuAN"
      },
      "id": "De5jLFSLFuAN",
      "execution_count": 19,
      "outputs": []
    },
    {
      "cell_type": "code",
      "source": [
        "print(\"Number of unique words in english train data:\", len(vocab_en))\n",
        "print(\"Number of unique words in bengali train data:\", len(vocab_ben))"
      ],
      "metadata": {
        "colab": {
          "base_uri": "https://localhost:8080/"
        },
        "id": "_noeG9yVGhlD",
        "outputId": "b6e0ae6c-a10a-4278-8196-78bd06cc2dab"
      },
      "id": "_noeG9yVGhlD",
      "execution_count": 23,
      "outputs": [
        {
          "output_type": "stream",
          "name": "stdout",
          "text": [
            "Number of unique words in english train data: 414402\n",
            "Number of unique words in bengali train data: 591253\n"
          ]
        }
      ]
    },
    {
      "cell_type": "markdown",
      "source": [
        "We create will create massive text files for both English and Bengali(from the entire dataset except the `train_dev_data`) to train our Byte-Pair Tokenizer for the most frequently occuring characters. "
      ],
      "metadata": {
        "id": "V9sky-K9fXmv"
      },
      "id": "V9sky-K9fXmv"
    },
    {
      "cell_type": "code",
      "source": [
        "with open('eng.txt', 'w') as f:\n",
        "    f.write('\\n'.join(data['src'].iloc[[idx for idx in data.index if idx not in train_dev_data.index]]))"
      ],
      "metadata": {
        "id": "jnob4fj-OevZ"
      },
      "id": "jnob4fj-OevZ",
      "execution_count": 46,
      "outputs": []
    },
    {
      "cell_type": "code",
      "source": [
        "with open('ben.txt', 'w') as f:\n",
        "    f.write('\\n'.join(data['tgt'].iloc[[idx for idx in data.index if idx not in train_dev_data.index]]))"
      ],
      "metadata": {
        "id": "qQu8hRyWeIdU"
      },
      "id": "qQu8hRyWeIdU",
      "execution_count": 47,
      "outputs": []
    },
    {
      "cell_type": "code",
      "source": [
        ""
      ],
      "metadata": {
        "colab": {
          "base_uri": "https://localhost:8080/"
        },
        "id": "XHZv0Z25eQQw",
        "outputId": "37c74e5b-6864-4f9c-b8d6-19f8b1f5f048"
      },
      "id": "XHZv0Z25eQQw",
      "execution_count": 45,
      "outputs": [
        {
          "output_type": "execute_result",
          "data": {
            "text/plain": [
              "0                                 Okay, I'll be right there.\n",
              "1                                        Give one's lessons.\n",
              "2          Much to the Witnesses' surprise, even the pros...\n",
              "3                                      I am at your service.\n",
              "4          Via Facebook Messenger, Global Voices talked w...\n",
              "                                 ...                        \n",
              "9251698    A panel of auditors for auditing listed compan...\n",
              "9251699    On this consideration, and on certain conditio...\n",
              "9251700    Under these rules, fixed price method for IPOs...\n",
              "9251701    Steps are being taken to introduce rural ratio...\n",
              "9251702    I propose to rationalize rates and to introduc...\n",
              "Name: src, Length: 9233199, dtype: object"
            ]
          },
          "metadata": {},
          "execution_count": 45
        }
      ]
    },
    {
      "cell_type": "code",
      "source": [
        ""
      ],
      "metadata": {
        "id": "vkTtyUWkgnU4"
      },
      "id": "vkTtyUWkgnU4",
      "execution_count": null,
      "outputs": []
    }
  ],
  "metadata": {
    "kernelspec": {
      "display_name": "Python 3 (ipykernel)",
      "language": "python",
      "name": "python3"
    },
    "language_info": {
      "codemirror_mode": {
        "name": "ipython",
        "version": 3
      },
      "file_extension": ".py",
      "mimetype": "text/x-python",
      "name": "python",
      "nbconvert_exporter": "python",
      "pygments_lexer": "ipython3",
      "version": "3.10.4"
    },
    "colab": {
      "name": "Text-Preprocessing.ipynb",
      "provenance": [],
      "collapsed_sections": []
    }
  },
  "nbformat": 4,
  "nbformat_minor": 5
}