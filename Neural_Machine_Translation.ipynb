{
  "nbformat": 4,
  "nbformat_minor": 0,
  "metadata": {
    "colab": {
      "name": "Neural-Machine-Translation.ipynb",
      "provenance": [],
      "collapsed_sections": [],
      "authorship_tag": "ABX9TyMvjBRnQ164/5kukJXQnQKE"
    },
    "kernelspec": {
      "name": "python3",
      "display_name": "Python 3"
    },
    "language_info": {
      "name": "python"
    },
    "accelerator": "TPU",
    "gpuClass": "standard"
  },
  "cells": [
    {
      "cell_type": "markdown",
      "source": [
        "#### Mounting Google Drive"
      ],
      "metadata": {
        "id": "0dqNGaFLKKAJ"
      }
    },
    {
      "cell_type": "code",
      "execution_count": null,
      "metadata": {
        "id": "bVenoImvJZs9"
      },
      "outputs": [],
      "source": [
        "from google.colab import drive\n",
        "drive.mount('/content/drive')"
      ]
    },
    {
      "cell_type": "code",
      "source": [
        "cd \"/content/drive/MyDrive/IASNLP\""
      ],
      "metadata": {
        "id": "iNpRDc1-KMj8"
      },
      "execution_count": null,
      "outputs": []
    },
    {
      "cell_type": "markdown",
      "source": [
        "### Importing Necessary Libraries"
      ],
      "metadata": {
        "id": "PfWtwH6jKV-N"
      }
    },
    {
      "cell_type": "code",
      "source": [
        "!pip install sentencepiece\n",
        "!pip install trax"
      ],
      "metadata": {
        "id": "THQjQh3IKSYW"
      },
      "execution_count": null,
      "outputs": []
    },
    {
      "cell_type": "code",
      "source": [
        "import numpy as np\n",
        "import pandas as pd\n",
        "\n",
        "import sentencepiece as spm\n",
        "from tensorflow.keras.preprocessing.sequence import pad_sequences\n",
        "\n",
        "import trax\n",
        "from trax.data import inputs\n",
        "from trax.fastmath import numpy as fnp\n",
        "from trax import layers as tl\n",
        "from trax.supervised import training\n",
        "from trax.models import Transformer\n",
        "\n",
        "import matplotlib.pyplot as plt \n",
        "\n",
        "from functools import reduce\n",
        "import os"
      ],
      "metadata": {
        "id": "BtRDGlTFKYkS"
      },
      "execution_count": 4,
      "outputs": []
    },
    {
      "cell_type": "markdown",
      "source": [
        "### Setting up Data Generator"
      ],
      "metadata": {
        "id": "dGSyrTxsdEwI"
      }
    },
    {
      "cell_type": "code",
      "source": [
        "train_data, train_dev_data = pd.read_csv(\"train_data.csv\")[['src', 'tgt']], pd.read_csv(\"train_dev.csv\")[['src', 'tgt']]\n",
        "sp_en_bpe, sp_ben_bpe = spm.SentencePieceProcessor(), spm.SentencePieceProcessor()\n",
        "sp_en_bpe.load('eng_bpe.model'); sp_ben_bpe.load('ben_bpe.model');"
      ],
      "metadata": {
        "id": "dwRB4a6-TMo6"
      },
      "execution_count": 5,
      "outputs": []
    },
    {
      "cell_type": "code",
      "source": [
        "def tokenize(sentence, sp_model):\n",
        "    # We add the EOS token at the end of each encoded sentence\n",
        "    return sp_model.encode_as_ids(sentence) + [sp_model.eos_id()]\n",
        "def detokenize(tokenized, sp_model):\n",
        "    integers = tokenized.tolist()\n",
        "    return sp_model.DecodeIdsWithCheck(integers[:integers.index(sp_model.eos_id())])\n",
        "def data_generator(batch_size, src, tgt, maxlen=60, shuffle=False, verbose=False):\n",
        "    num_lines = len(src)\n",
        "    lines_index = [*range(num_lines)]\n",
        "    if shuffle:\n",
        "        np.random.shuffle(lines_index)\n",
        "    index = 0\n",
        "    while True:\n",
        "        buffer_src = list()\n",
        "        buffer_tgt = list() \n",
        "        max_len = 0 \n",
        "        for i in range(batch_size):\n",
        "            if index >= num_lines:\n",
        "                index = 0\n",
        "                if shuffle:\n",
        "                    np.random.shuffle(lines_index)\n",
        "            buffer_src.append(src[lines_index[index]])\n",
        "            buffer_tgt.append(tgt[lines_index[index]])\n",
        "            index += 1\n",
        "        batch_src = pad_sequences(buffer_src, maxlen = maxlen, padding='post', truncating='post')\n",
        "        batch_tgt = pad_sequences(buffer_tgt, maxlen = maxlen, padding='post', truncating='post')\n",
        "        if verbose: print(\"index=\", index)\n",
        "        yield((batch_src, batch_tgt))"
      ],
      "metadata": {
        "id": "BG712QbdjiDo"
      },
      "execution_count": 6,
      "outputs": []
    },
    {
      "cell_type": "code",
      "source": [
        "src_train_data_enc = [tokenize(train_data['src'].iloc[i], sp_en_bpe) for i in range(train_data.shape[0])]\n",
        "tgt_train_data_enc = [tokenize(train_data['tgt'].iloc[i], sp_ben_bpe) for i in range(train_data.shape[0])]\n",
        "src_train_dev_data_enc = [tokenize(train_dev_data['src'].iloc[i], sp_en_bpe) for i in range(train_dev_data.shape[0])]\n",
        "tgt_train_dev_data_enc = [tokenize(train_dev_data['tgt'].iloc[i], sp_ben_bpe) for i in range(train_dev_data.shape[0])]"
      ],
      "metadata": {
        "id": "sKWfGPHSkIiz"
      },
      "execution_count": 7,
      "outputs": []
    },
    {
      "cell_type": "code",
      "source": [
        "train_data_gen = data_generator(128, src_train_data_enc, tgt_train_data_enc)\n",
        "train_dev_data_gen = data_generator(32, src_train_dev_data_enc, tgt_train_dev_data_enc)"
      ],
      "metadata": {
        "id": "l1j2-VXOo-Ys"
      },
      "execution_count": 8,
      "outputs": []
    },
    {
      "cell_type": "markdown",
      "source": [
        "### Model"
      ],
      "metadata": {
        "id": "daRvdVJNlYuq"
      }
    },
    {
      "cell_type": "markdown",
      "source": [
        "#### Basic Transformer Model"
      ],
      "metadata": {
        "id": "oAjtw5l5oQVG"
      }
    },
    {
      "cell_type": "markdown",
      "source": [
        "Now, we are ready to train our first model. We will start by training a basic transformer model from scratch with `embedding dimension = 256`, `dense layer units = 512`, `number of heads = 4`, `number of encoder layers = number of decoder layers = 3` and `maximum number of tokens = 60`."
      ],
      "metadata": {
        "id": "WgAcGVLjlbx1"
      }
    },
    {
      "cell_type": "code",
      "source": [
        "model = Transformer(input_vocab_size=16000, output_vocab_size=16000, d_model=256, d_ff=512, dropout = 0.1, n_heads=4, n_encoder_layers=3, n_decoder_layers=3, max_len=60, mode='train')\n",
        "model"
      ],
      "metadata": {
        "colab": {
          "base_uri": "https://localhost:8080/"
        },
        "id": "BEdPj8fBkUQ9",
        "outputId": "145ade64-39e3-4571-c49f-76e707bd9094"
      },
      "execution_count": 9,
      "outputs": [
        {
          "output_type": "execute_result",
          "data": {
            "text/plain": [
              "Serial_in2_out2[\n",
              "  Select[0,1,1]_in2_out3\n",
              "  Branch_out2[\n",
              "    []\n",
              "    Serial[\n",
              "      PaddingMask(0)\n",
              "    ]\n",
              "  ]\n",
              "  Serial_in2_out2[\n",
              "    Embedding_16000_256\n",
              "    Dropout\n",
              "    PositionalEncoding\n",
              "    Serial_in2_out2[\n",
              "      Branch_in2_out3[\n",
              "        None\n",
              "        Serial_in2_out2[\n",
              "          LayerNorm\n",
              "          Serial_in2_out2[\n",
              "            _in2_out2\n",
              "            Serial_in2_out2[\n",
              "              Select[0,0,0]_out3\n",
              "              Serial_in4_out2[\n",
              "                _in4_out4\n",
              "                Serial_in4_out2[\n",
              "                  Parallel_in3_out3[\n",
              "                    Dense_256\n",
              "                    Dense_256\n",
              "                    Dense_256\n",
              "                  ]\n",
              "                  PureAttention_in4_out2\n",
              "                  Dense_256\n",
              "                ]\n",
              "                _in2_out2\n",
              "              ]\n",
              "            ]\n",
              "            _in2_out2\n",
              "          ]\n",
              "          Dropout\n",
              "        ]\n",
              "      ]\n",
              "      Add_in2\n",
              "    ]\n",
              "    Serial[\n",
              "      Branch_out2[\n",
              "        None\n",
              "        Serial[\n",
              "          LayerNorm\n",
              "          Dense_512\n",
              "          Serial[\n",
              "            Relu\n",
              "          ]\n",
              "          Dropout\n",
              "          Dense_256\n",
              "          Dropout\n",
              "        ]\n",
              "      ]\n",
              "      Add_in2\n",
              "    ]\n",
              "    Serial_in2_out2[\n",
              "      Branch_in2_out3[\n",
              "        None\n",
              "        Serial_in2_out2[\n",
              "          LayerNorm\n",
              "          Serial_in2_out2[\n",
              "            _in2_out2\n",
              "            Serial_in2_out2[\n",
              "              Select[0,0,0]_out3\n",
              "              Serial_in4_out2[\n",
              "                _in4_out4\n",
              "                Serial_in4_out2[\n",
              "                  Parallel_in3_out3[\n",
              "                    Dense_256\n",
              "                    Dense_256\n",
              "                    Dense_256\n",
              "                  ]\n",
              "                  PureAttention_in4_out2\n",
              "                  Dense_256\n",
              "                ]\n",
              "                _in2_out2\n",
              "              ]\n",
              "            ]\n",
              "            _in2_out2\n",
              "          ]\n",
              "          Dropout\n",
              "        ]\n",
              "      ]\n",
              "      Add_in2\n",
              "    ]\n",
              "    Serial[\n",
              "      Branch_out2[\n",
              "        None\n",
              "        Serial[\n",
              "          LayerNorm\n",
              "          Dense_512\n",
              "          Serial[\n",
              "            Relu\n",
              "          ]\n",
              "          Dropout\n",
              "          Dense_256\n",
              "          Dropout\n",
              "        ]\n",
              "      ]\n",
              "      Add_in2\n",
              "    ]\n",
              "    Serial_in2_out2[\n",
              "      Branch_in2_out3[\n",
              "        None\n",
              "        Serial_in2_out2[\n",
              "          LayerNorm\n",
              "          Serial_in2_out2[\n",
              "            _in2_out2\n",
              "            Serial_in2_out2[\n",
              "              Select[0,0,0]_out3\n",
              "              Serial_in4_out2[\n",
              "                _in4_out4\n",
              "                Serial_in4_out2[\n",
              "                  Parallel_in3_out3[\n",
              "                    Dense_256\n",
              "                    Dense_256\n",
              "                    Dense_256\n",
              "                  ]\n",
              "                  PureAttention_in4_out2\n",
              "                  Dense_256\n",
              "                ]\n",
              "                _in2_out2\n",
              "              ]\n",
              "            ]\n",
              "            _in2_out2\n",
              "          ]\n",
              "          Dropout\n",
              "        ]\n",
              "      ]\n",
              "      Add_in2\n",
              "    ]\n",
              "    Serial[\n",
              "      Branch_out2[\n",
              "        None\n",
              "        Serial[\n",
              "          LayerNorm\n",
              "          Dense_512\n",
              "          Serial[\n",
              "            Relu\n",
              "          ]\n",
              "          Dropout\n",
              "          Dense_256\n",
              "          Dropout\n",
              "        ]\n",
              "      ]\n",
              "      Add_in2\n",
              "    ]\n",
              "    LayerNorm\n",
              "  ]\n",
              "  Select[2,1,0]_in3_out3\n",
              "  Serial[\n",
              "    ShiftRight(1)\n",
              "  ]\n",
              "  Embedding_16000_256\n",
              "  Dropout\n",
              "  PositionalEncoding\n",
              "  Branch_in2_out2[\n",
              "    []\n",
              "    EncoderDecoderMask_in2\n",
              "  ]\n",
              "  Serial[\n",
              "    Branch_out2[\n",
              "      None\n",
              "      Serial[\n",
              "        LayerNorm\n",
              "        Serial[\n",
              "          Serial[\n",
              "            Serial[\n",
              "              Branch_out3[\n",
              "                [Dense_256, Serial[\n",
              "                  SplitIntoHeads\n",
              "                ]]\n",
              "                [Dense_256, Serial[\n",
              "                  SplitIntoHeads\n",
              "                ]]\n",
              "                [Dense_256, Serial[\n",
              "                  SplitIntoHeads\n",
              "                ]]\n",
              "              ]\n",
              "              DotProductCausalAttention_in3\n",
              "              Serial[\n",
              "                MergeHeads\n",
              "              ]\n",
              "              Dense_256\n",
              "            ]\n",
              "          ]\n",
              "        ]\n",
              "        Dropout\n",
              "      ]\n",
              "    ]\n",
              "    Add_in2\n",
              "  ]\n",
              "  Serial_in3_out3[\n",
              "    Branch_in3_out4[\n",
              "      None\n",
              "      Serial_in3_out3[\n",
              "        LayerNorm\n",
              "        Select[0,2,2,1,2]_in3_out5\n",
              "        Serial_in4_out2[\n",
              "          _in4_out4\n",
              "          Serial_in4_out2[\n",
              "            Parallel_in3_out3[\n",
              "              Dense_256\n",
              "              Dense_256\n",
              "              Dense_256\n",
              "            ]\n",
              "            PureAttention_in4_out2\n",
              "            Dense_256\n",
              "          ]\n",
              "          _in2_out2\n",
              "        ]\n",
              "        Dropout\n",
              "      ]\n",
              "    ]\n",
              "    Add_in2\n",
              "  ]\n",
              "  Serial[\n",
              "    Branch_out2[\n",
              "      None\n",
              "      Serial[\n",
              "        LayerNorm\n",
              "        Dense_512\n",
              "        Serial[\n",
              "          Relu\n",
              "        ]\n",
              "        Dropout\n",
              "        Dense_256\n",
              "        Dropout\n",
              "      ]\n",
              "    ]\n",
              "    Add_in2\n",
              "  ]\n",
              "  Serial[\n",
              "    Branch_out2[\n",
              "      None\n",
              "      Serial[\n",
              "        LayerNorm\n",
              "        Serial[\n",
              "          Serial[\n",
              "            Serial[\n",
              "              Branch_out3[\n",
              "                [Dense_256, Serial[\n",
              "                  SplitIntoHeads\n",
              "                ]]\n",
              "                [Dense_256, Serial[\n",
              "                  SplitIntoHeads\n",
              "                ]]\n",
              "                [Dense_256, Serial[\n",
              "                  SplitIntoHeads\n",
              "                ]]\n",
              "              ]\n",
              "              DotProductCausalAttention_in3\n",
              "              Serial[\n",
              "                MergeHeads\n",
              "              ]\n",
              "              Dense_256\n",
              "            ]\n",
              "          ]\n",
              "        ]\n",
              "        Dropout\n",
              "      ]\n",
              "    ]\n",
              "    Add_in2\n",
              "  ]\n",
              "  Serial_in3_out3[\n",
              "    Branch_in3_out4[\n",
              "      None\n",
              "      Serial_in3_out3[\n",
              "        LayerNorm\n",
              "        Select[0,2,2,1,2]_in3_out5\n",
              "        Serial_in4_out2[\n",
              "          _in4_out4\n",
              "          Serial_in4_out2[\n",
              "            Parallel_in3_out3[\n",
              "              Dense_256\n",
              "              Dense_256\n",
              "              Dense_256\n",
              "            ]\n",
              "            PureAttention_in4_out2\n",
              "            Dense_256\n",
              "          ]\n",
              "          _in2_out2\n",
              "        ]\n",
              "        Dropout\n",
              "      ]\n",
              "    ]\n",
              "    Add_in2\n",
              "  ]\n",
              "  Serial[\n",
              "    Branch_out2[\n",
              "      None\n",
              "      Serial[\n",
              "        LayerNorm\n",
              "        Dense_512\n",
              "        Serial[\n",
              "          Relu\n",
              "        ]\n",
              "        Dropout\n",
              "        Dense_256\n",
              "        Dropout\n",
              "      ]\n",
              "    ]\n",
              "    Add_in2\n",
              "  ]\n",
              "  Serial[\n",
              "    Branch_out2[\n",
              "      None\n",
              "      Serial[\n",
              "        LayerNorm\n",
              "        Serial[\n",
              "          Serial[\n",
              "            Serial[\n",
              "              Branch_out3[\n",
              "                [Dense_256, Serial[\n",
              "                  SplitIntoHeads\n",
              "                ]]\n",
              "                [Dense_256, Serial[\n",
              "                  SplitIntoHeads\n",
              "                ]]\n",
              "                [Dense_256, Serial[\n",
              "                  SplitIntoHeads\n",
              "                ]]\n",
              "              ]\n",
              "              DotProductCausalAttention_in3\n",
              "              Serial[\n",
              "                MergeHeads\n",
              "              ]\n",
              "              Dense_256\n",
              "            ]\n",
              "          ]\n",
              "        ]\n",
              "        Dropout\n",
              "      ]\n",
              "    ]\n",
              "    Add_in2\n",
              "  ]\n",
              "  Serial_in3_out3[\n",
              "    Branch_in3_out4[\n",
              "      None\n",
              "      Serial_in3_out3[\n",
              "        LayerNorm\n",
              "        Select[0,2,2,1,2]_in3_out5\n",
              "        Serial_in4_out2[\n",
              "          _in4_out4\n",
              "          Serial_in4_out2[\n",
              "            Parallel_in3_out3[\n",
              "              Dense_256\n",
              "              Dense_256\n",
              "              Dense_256\n",
              "            ]\n",
              "            PureAttention_in4_out2\n",
              "            Dense_256\n",
              "          ]\n",
              "          _in2_out2\n",
              "        ]\n",
              "        Dropout\n",
              "      ]\n",
              "    ]\n",
              "    Add_in2\n",
              "  ]\n",
              "  Serial[\n",
              "    Branch_out2[\n",
              "      None\n",
              "      Serial[\n",
              "        LayerNorm\n",
              "        Dense_512\n",
              "        Serial[\n",
              "          Relu\n",
              "        ]\n",
              "        Dropout\n",
              "        Dense_256\n",
              "        Dropout\n",
              "      ]\n",
              "    ]\n",
              "    Add_in2\n",
              "  ]\n",
              "  LayerNorm\n",
              "  Select[0]_in3\n",
              "  Dense_16000\n",
              "]"
            ]
          },
          "metadata": {},
          "execution_count": 9
        }
      ]
    },
    {
      "cell_type": "markdown",
      "source": [
        "#### Training"
      ],
      "metadata": {
        "id": "OuDkwt7ToNGp"
      }
    },
    {
      "cell_type": "code",
      "source": [
        "np.random.seed(43)\n",
        "train_generator = trax.data.inputs.add_loss_weights(train_data_gen, id_to_mask= sp_en_bpe.pad_id())\n",
        "train_dev_generator = trax.data.inputs.add_loss_weights(train_dev_data_gen, id_to_mask= sp_en_bpe.pad_id())"
      ],
      "metadata": {
        "id": "p3_51sXIrjo0"
      },
      "execution_count": 10,
      "outputs": []
    },
    {
      "cell_type": "code",
      "source": [
        "train_task = training.TrainTask(labeled_data= train_generator, \n",
        "                                loss_layer= tl.CrossEntropyLossWithLogSoftmax(),\n",
        "                                optimizer= trax.optimizers.Adam(0.01),\n",
        "                                lr_schedule= trax.lr.warmup_and_rsqrt_decay(1000, 0.01),\n",
        "                                n_steps_per_checkpoint= 100,\n",
        "                                n_steps_per_permanent_checkpoint= 1000)"
      ],
      "metadata": {
        "colab": {
          "base_uri": "https://localhost:8080/"
        },
        "id": "jN-P4002meBq",
        "outputId": "346abb17-0c59-417c-a318-3fd05d5a4575"
      },
      "execution_count": 11,
      "outputs": [
        {
          "output_type": "stream",
          "name": "stderr",
          "text": [
            "WARNING:absl:No GPU/TPU found, falling back to CPU. (Set TF_CPP_MIN_LOG_LEVEL=0 and rerun for more info.)\n"
          ]
        }
      ]
    },
    {
      "cell_type": "code",
      "source": [
        "eval_task = training.EvalTask(labeled_data=train_dev_generator,\n",
        "                              metrics=[tl.CrossEntropyLossWithLogSoftmax(), tl.WeightedCategoryAccuracy()])"
      ],
      "metadata": {
        "id": "s2aLEm9-qo7W"
      },
      "execution_count": 12,
      "outputs": []
    },
    {
      "cell_type": "code",
      "source": [
        "output_dir = './Model'\n",
        "training_loop = training.Loop(model,\n",
        "                              train_task,\n",
        "                              eval_tasks=[eval_task],\n",
        "                              output_dir=output_dir)"
      ],
      "metadata": {
        "id": "taWsxxV1shCm"
      },
      "execution_count": null,
      "outputs": []
    },
    {
      "cell_type": "code",
      "source": [
        "training_loop.run(5000)"
      ],
      "metadata": {
        "colab": {
          "base_uri": "https://localhost:8080/"
        },
        "id": "iT4I3ymcs5np",
        "outputId": "5c1f7bf3-c8bf-44b3-86a7-28fbb7d71e05"
      },
      "execution_count": null,
      "outputs": [
        {
          "output_type": "stream",
          "name": "stdout",
          "text": [
            "\n",
            "Step      1: Total number of trainable weights: 16289408\n",
            "Step      1: Ran 1 train steps in 213.24 secs\n",
            "Step      1: train CrossEntropyLossWithLogSoftmax |  9.67185497\n",
            "Step      1: eval  CrossEntropyLossWithLogSoftmax |  9.65214634\n",
            "Step      1: eval        WeightedCategoryAccuracy |  0.00000000\n"
          ]
        }
      ]
    },
    {
      "cell_type": "code",
      "source": [
        ""
      ],
      "metadata": {
        "id": "Eww1p5UpuXQp"
      },
      "execution_count": null,
      "outputs": []
    }
  ]
}